{
 "cells": [
  {
   "cell_type": "markdown",
   "id": "58288362",
   "metadata": {
    "papermill": {
     "duration": 0.014404,
     "end_time": "2022-08-02T08:10:05.320002",
     "exception": false,
     "start_time": "2022-08-02T08:10:05.305598",
     "status": "completed"
    },
    "tags": []
   },
   "source": [
    "# <b>1 <span style='color:#3f4d63'>|</span> Introduction</b>\n",
    "\n",
    "<div style=\"color:white;display:fill;\n",
    "            background-color:#3f4d6f;font-size:150%;\n",
    "            font-family:Nexa;letter-spacing:0.5px\">\n",
    "    <p style=\"padding: 8px;color:white;\"><b>1.1 | Table of contents</b></p>\n",
    "</div>\n",
    "\n",
    "* **<span style = 'color:red'>Exploratory Data Analysis</span>**\n",
    "    * **Basic information**\n",
    "    * **Distributions**\n",
    "        * Categorical Values\n",
    "        * Integers Values\n",
    "        * Floating Values\n",
    "        * Normal Distribution Test for Floating Values\n",
    "        * Distribution of dependent variable\n",
    "    * **Correlations**\n",
    "* **<span style = 'color:red'>Feature Engineering</span>**\n",
    "    * **Handling Categorical Features**\n",
    "    * **Handling Missing Values**\n",
    "    * **Feature Scaling**\n",
    "    * **Outlier Detection**\n",
    "* **<span style = 'color:red'>Feature Selection</span>**\n",
    "    * **Variance Threshold**\n",
    "        * Theory\n",
    "        * Code\n",
    "    * **Information Gain Method**\n",
    "        * Theory\n",
    "        * Code\n",
    "    * **ExtraTree**\n",
    "        * Code\n",
    "* **<span style = 'color:red'>Model</span>**\n",
    "    * **Preparing Test set**\n",
    "    * **GroupK Fold**\n",
    "    * **Combining Results**\n",
    "* **<span style = 'color:red'>Future Work</span>**"
   ]
  },
  {
   "cell_type": "code",
   "execution_count": 1,
   "id": "b9bb9f43",
   "metadata": {
    "_cell_guid": "b1076dfc-b9ad-4769-8c92-a6c4dae69d19",
    "_uuid": "8f2839f25d086af736a60e9eeb907d3b93b6e0e5",
    "execution": {
     "iopub.execute_input": "2022-08-02T08:10:05.348147Z",
     "iopub.status.busy": "2022-08-02T08:10:05.347427Z",
     "iopub.status.idle": "2022-08-02T08:10:07.112956Z",
     "shell.execute_reply": "2022-08-02T08:10:07.111790Z"
    },
    "papermill": {
     "duration": 1.78306,
     "end_time": "2022-08-02T08:10:07.116085",
     "exception": false,
     "start_time": "2022-08-02T08:10:05.333025",
     "status": "completed"
    },
    "tags": []
   },
   "outputs": [],
   "source": [
    "import pandas as pd \n",
    "import numpy as np\n",
    "from scipy.stats import shapiro\n",
    "from termcolor import colored\n",
    "import matplotlib.pyplot as plt\n",
    "import seaborn as sns\n",
    "from sklearn.feature_selection import VarianceThreshold\n",
    "from sklearn.preprocessing import LabelEncoder\n",
    "from sklearn.preprocessing import StandardScaler\n",
    "from sklearn.feature_selection import mutual_info_classif\n",
    "from sklearn.ensemble import ExtraTreesClassifier\n",
    "from sklearn.model_selection import GroupKFold\n",
    "from sklearn.linear_model import LogisticRegression\n",
    "from sklearn.svm import SVC\n",
    "from sklearn.neighbors import KNeighborsClassifier\n",
    "from sklearn.metrics import roc_auc_score\n",
    "import gc"
   ]
  },
  {
   "cell_type": "code",
   "execution_count": 2,
   "id": "ebe6d54e",
   "metadata": {
    "execution": {
     "iopub.execute_input": "2022-08-02T08:10:07.144266Z",
     "iopub.status.busy": "2022-08-02T08:10:07.143504Z",
     "iopub.status.idle": "2022-08-02T08:10:07.459622Z",
     "shell.execute_reply": "2022-08-02T08:10:07.458354Z"
    },
    "papermill": {
     "duration": 0.33326,
     "end_time": "2022-08-02T08:10:07.462446",
     "exception": false,
     "start_time": "2022-08-02T08:10:07.129186",
     "status": "completed"
    },
    "tags": []
   },
   "outputs": [],
   "source": [
    "trainDF = pd.read_csv('../input/tabular-playground-series-aug-2022/train.csv')\n",
    "trainDF.drop('id', axis=1, inplace=True)\n",
    "testDF = pd.read_csv('../input/tabular-playground-series-aug-2022/test.csv')\n",
    "testDF.drop('id', axis=1, inplace=True)"
   ]
  },
  {
   "cell_type": "code",
   "execution_count": 3,
   "id": "f5519b14",
   "metadata": {
    "execution": {
     "iopub.execute_input": "2022-08-02T08:10:07.491817Z",
     "iopub.status.busy": "2022-08-02T08:10:07.491115Z",
     "iopub.status.idle": "2022-08-02T08:10:07.501029Z",
     "shell.execute_reply": "2022-08-02T08:10:07.500156Z"
    },
    "papermill": {
     "duration": 0.027946,
     "end_time": "2022-08-02T08:10:07.503543",
     "exception": false,
     "start_time": "2022-08-02T08:10:07.475597",
     "status": "completed"
    },
    "tags": []
   },
   "outputs": [],
   "source": [
    "trainPseudoDF = trainDF.copy()"
   ]
  },
  {
   "cell_type": "code",
   "execution_count": 4,
   "id": "978ad9bb",
   "metadata": {
    "execution": {
     "iopub.execute_input": "2022-08-02T08:10:07.531908Z",
     "iopub.status.busy": "2022-08-02T08:10:07.531132Z",
     "iopub.status.idle": "2022-08-02T08:10:07.543600Z",
     "shell.execute_reply": "2022-08-02T08:10:07.542563Z"
    },
    "papermill": {
     "duration": 0.029577,
     "end_time": "2022-08-02T08:10:07.546102",
     "exception": false,
     "start_time": "2022-08-02T08:10:07.516525",
     "status": "completed"
    },
    "tags": []
   },
   "outputs": [],
   "source": [
    "def infoDF(data):\n",
    "    floatColCounter = 0\n",
    "    floatCols = []\n",
    "    intColCounter = 0\n",
    "    intCols = []\n",
    "    stringColCounter = 0\n",
    "    stringCols = []\n",
    "    print('No of rows-> {}, No of columns-> {}'.format(data.shape[0], data.shape[1]))\n",
    "    print('          ------------------------          ')\n",
    "    for column in data.columns:\n",
    "        if data[column].dtype == int:\n",
    "            intColCounter += 1\n",
    "            print('{} dtype -> integer, % of null values-> {}%, No of distinct values-> {}'.format(column, round((data[column].isnull().sum()/data.shape[0])*100, 2), data[column].nunique()))\n",
    "            intCols.append(column)\n",
    "            print('          ------------------------          ')\n",
    "        elif data[column].dtype == float:\n",
    "            floatColCounter += 1\n",
    "            print('{} dtype -> float, % of null values-> {}%, No of distinct values-> {}'.format(column, round((data[column].isnull().sum()/data.shape[0])*100, 2), data[column].nunique()))\n",
    "            floatCols.append(column)\n",
    "            print('          ------------------------          ')\n",
    "        else:\n",
    "            stringColCounter += 1\n",
    "            print('{} dtype -> string, % of null values-> {}%, No of distinct values-> {}'.format(column, round((data[column].isnull().sum()/data.shape[0])*100, 2), data[column].nunique()))\n",
    "            stringCols.append(column)\n",
    "            print('          ------------------------          ')\n",
    "            \n",
    "    print('No of integer column-> {}, No of floating column-> {}, No of string or object columns-> {}'.format(intColCounter, floatColCounter, stringColCounter))\n",
    "    print('          ------------------------          ')\n",
    "    print('% of Null/Missing Values in training data-> {}%'.format(round((data.isnull().sum().sum()/(data.shape[0]*trainDF.shape[1]))*100, 2)))\n",
    "    print('          ------------------------          ')\n",
    "    return intCols, floatCols, stringCols"
   ]
  },
  {
   "cell_type": "markdown",
   "id": "5cca79d6",
   "metadata": {
    "papermill": {
     "duration": 0.012894,
     "end_time": "2022-08-02T08:10:07.572398",
     "exception": false,
     "start_time": "2022-08-02T08:10:07.559504",
     "status": "completed"
    },
    "tags": []
   },
   "source": [
    "# <b>2 <span style='color:#3f4d63'>|</span> Exploratory Data Analysis</b>\n",
    "\n",
    "<div style=\"color:white;display:fill;\n",
    "            background-color:#3f4d6f;font-size:150%;\n",
    "            font-family:Nexa;letter-spacing:0.5px\">\n",
    "    <p style=\"padding: 8px;color:white;\"><b>2.1 | Basic information</b></p>\n",
    "</div>\n",
    "\n",
    "To start with, we're gonna take a brief view on the dataset given in order to get some basic information about it: \n",
    "\n",
    "* We're gonna show some sample rows and columns of the dataframe.\n",
    "* Examine which type of features we've given.\n",
    "* Find out whether there are missing values or not.\n",
    "* No of distinct values of given feature."
   ]
  },
  {
   "cell_type": "code",
   "execution_count": 5,
   "id": "9f601b71",
   "metadata": {
    "execution": {
     "iopub.execute_input": "2022-08-02T08:10:07.600484Z",
     "iopub.status.busy": "2022-08-02T08:10:07.600090Z",
     "iopub.status.idle": "2022-08-02T08:10:07.648476Z",
     "shell.execute_reply": "2022-08-02T08:10:07.647251Z"
    },
    "papermill": {
     "duration": 0.065972,
     "end_time": "2022-08-02T08:10:07.651599",
     "exception": false,
     "start_time": "2022-08-02T08:10:07.585627",
     "status": "completed"
    },
    "tags": []
   },
   "outputs": [
    {
     "name": "stdout",
     "output_type": "stream",
     "text": [
      "No of rows-> 26570, No of columns-> 25\n",
      "          ------------------------          \n",
      "product_code dtype -> string, % of null values-> 0.0%, No of distinct values-> 5\n",
      "          ------------------------          \n",
      "loading dtype -> float, % of null values-> 0.94%, No of distinct values-> 11950\n",
      "          ------------------------          \n",
      "attribute_0 dtype -> string, % of null values-> 0.0%, No of distinct values-> 2\n",
      "          ------------------------          \n",
      "attribute_1 dtype -> string, % of null values-> 0.0%, No of distinct values-> 3\n",
      "          ------------------------          \n",
      "attribute_2 dtype -> integer, % of null values-> 0.0%, No of distinct values-> 4\n",
      "          ------------------------          \n",
      "attribute_3 dtype -> integer, % of null values-> 0.0%, No of distinct values-> 4\n",
      "          ------------------------          \n",
      "measurement_0 dtype -> integer, % of null values-> 0.0%, No of distinct values-> 29\n",
      "          ------------------------          \n",
      "measurement_1 dtype -> integer, % of null values-> 0.0%, No of distinct values-> 30\n",
      "          ------------------------          \n",
      "measurement_2 dtype -> integer, % of null values-> 0.0%, No of distinct values-> 25\n",
      "          ------------------------          \n",
      "measurement_3 dtype -> float, % of null values-> 1.43%, No of distinct values-> 4721\n",
      "          ------------------------          \n",
      "measurement_4 dtype -> float, % of null values-> 2.02%, No of distinct values-> 4692\n",
      "          ------------------------          \n",
      "measurement_5 dtype -> float, % of null values-> 2.54%, No of distinct values-> 4671\n",
      "          ------------------------          \n",
      "measurement_6 dtype -> float, % of null values-> 3.0%, No of distinct values-> 4704\n",
      "          ------------------------          \n",
      "measurement_7 dtype -> float, % of null values-> 3.53%, No of distinct values-> 4734\n",
      "          ------------------------          \n",
      "measurement_8 dtype -> float, % of null values-> 3.94%, No of distinct values-> 4713\n",
      "          ------------------------          \n",
      "measurement_9 dtype -> float, % of null values-> 4.62%, No of distinct values-> 4708\n",
      "          ------------------------          \n",
      "measurement_10 dtype -> float, % of null values-> 4.89%, No of distinct values-> 6177\n",
      "          ------------------------          \n",
      "measurement_11 dtype -> float, % of null values-> 5.53%, No of distinct values-> 6526\n",
      "          ------------------------          \n",
      "measurement_12 dtype -> float, % of null values-> 6.03%, No of distinct values-> 6392\n",
      "          ------------------------          \n",
      "measurement_13 dtype -> float, % of null values-> 6.68%, No of distinct values-> 5271\n",
      "          ------------------------          \n",
      "measurement_14 dtype -> float, % of null values-> 7.05%, No of distinct values-> 6389\n",
      "          ------------------------          \n",
      "measurement_15 dtype -> float, % of null values-> 7.56%, No of distinct values-> 6577\n",
      "          ------------------------          \n",
      "measurement_16 dtype -> float, % of null values-> 7.94%, No of distinct values-> 7035\n",
      "          ------------------------          \n",
      "measurement_17 dtype -> float, % of null values-> 8.6%, No of distinct values-> 23612\n",
      "          ------------------------          \n",
      "failure dtype -> integer, % of null values-> 0.0%, No of distinct values-> 2\n",
      "          ------------------------          \n",
      "No of integer column-> 6, No of floating column-> 16, No of string or object columns-> 3\n",
      "          ------------------------          \n",
      "% of Null/Missing Values in training data-> 3.05%\n",
      "          ------------------------          \n"
     ]
    }
   ],
   "source": [
    "intColumns, floatColumns, stringColumns = infoDF(trainDF)"
   ]
  },
  {
   "cell_type": "markdown",
   "id": "d4386be1",
   "metadata": {
    "papermill": {
     "duration": 0.012735,
     "end_time": "2022-08-02T08:10:07.677903",
     "exception": false,
     "start_time": "2022-08-02T08:10:07.665168",
     "status": "completed"
    },
    "tags": []
   },
   "source": [
    "<div style=\"color:white;display:fill;\n",
    "            background-color:#3f4d6f;font-size:150%;\n",
    "            font-family:Nexa;letter-spacing:0.5px\">\n",
    "    <p style=\"padding: 8px;color:white;\"><b>2.2 | Distributions</b></p>\n",
    "</div>\n",
    "\n",
    "In this first section, we're gonna focus on analysing every feature's distribution and its related statistical information. To start with, let's plot the distributions in order to determine whether features are distributed normally. \n",
    "> We're gonna distinguish between different categorical features and we can se the distribution of all three categorical feature of train set."
   ]
  },
  {
   "cell_type": "code",
   "execution_count": 6,
   "id": "69f0e268",
   "metadata": {
    "execution": {
     "iopub.execute_input": "2022-08-02T08:10:07.705634Z",
     "iopub.status.busy": "2022-08-02T08:10:07.705226Z",
     "iopub.status.idle": "2022-08-02T08:10:08.369676Z",
     "shell.execute_reply": "2022-08-02T08:10:08.368323Z"
    },
    "papermill": {
     "duration": 0.681425,
     "end_time": "2022-08-02T08:10:08.372375",
     "exception": false,
     "start_time": "2022-08-02T08:10:07.690950",
     "status": "completed"
    },
    "tags": []
   },
   "outputs": [
    {
     "data": {
      "image/png": "[encoded data removed]",
      "text/plain": [
       "<Figure size 1152x216 with 3 Axes>"
      ]
     },
     "metadata": {
      "needs_background": "light"
     },
     "output_type": "display_data"
    }
   ],
   "source": [
    "figure = plt.figure(figsize=(16, 3))\n",
    "colors = ['red', 'blue', 'green']\n",
    "for i in range(len(stringColumns)):\n",
    "    plt.subplot(1, 3, i+1)\n",
    "    sns.histplot(trainDF[stringColumns[i]], shrink=0.8, color=colors[i])\n",
    "figure.tight_layout(h_pad=1.0, w_pad=0.5)\n",
    "plt.suptitle('Distribution of String Column Values')\n",
    "plt.show()"
   ]
  },
  {
   "cell_type": "markdown",
   "id": "358ade7d",
   "metadata": {
    "papermill": {
     "duration": 0.013168,
     "end_time": "2022-08-02T08:10:08.399486",
     "exception": false,
     "start_time": "2022-08-02T08:10:08.386318",
     "status": "completed"
    },
    "tags": []
   },
   "source": [
    "> Below is the code for the distribution of the integer feautre and and the graph should show un-even spread as we have seen in basic information that all the integers values conatin 4-5(max) distinct values."
   ]
  },
  {
   "cell_type": "code",
   "execution_count": 7,
   "id": "61b2df50",
   "metadata": {
    "execution": {
     "iopub.execute_input": "2022-08-02T08:10:08.428782Z",
     "iopub.status.busy": "2022-08-02T08:10:08.428006Z",
     "iopub.status.idle": "2022-08-02T08:10:10.031087Z",
     "shell.execute_reply": "2022-08-02T08:10:10.029751Z"
    },
    "papermill": {
     "duration": 1.620253,
     "end_time": "2022-08-02T08:10:10.033622",
     "exception": false,
     "start_time": "2022-08-02T08:10:08.413369",
     "status": "completed"
    },
    "tags": []
   },
   "outputs": [
    {
     "data": {
      "image/png": "[encoded data removed]",
      "text/plain": [
       "<Figure size 1152x360 with 6 Axes>"
      ]
     },
     "metadata": {
      "needs_background": "light"
     },
     "output_type": "display_data"
    }
   ],
   "source": [
    "fig=plt.figure(figsize=(16, 5))\n",
    "for i, f in enumerate(intColumns):\n",
    "    plt.style.use('ggplot')\n",
    "    plt.subplot(2, 4, i+1)\n",
    "    sns.histplot(trainDF[f])\n",
    "    plt.title('Feature: {}'.format(f))\n",
    "    plt.xlabel('')\n",
    "    \n",
    "fig.suptitle('Integer Feature distributions',  size=20)\n",
    "fig.tight_layout()  \n",
    "plt.show()"
   ]
  },
  {
   "cell_type": "markdown",
   "id": "11adabd9",
   "metadata": {
    "papermill": {
     "duration": 0.013843,
     "end_time": "2022-08-02T08:10:10.061792",
     "exception": false,
     "start_time": "2022-08-02T08:10:10.047949",
     "status": "completed"
    },
    "tags": []
   },
   "source": [
    "> After integer we look at floating value feature which should show different distribution of values integer value feature as there way more distinct feature and its also clear from graph. Most of the feature seen to be normally distributed."
   ]
  },
  {
   "cell_type": "code",
   "execution_count": 8,
   "id": "ee80f07c",
   "metadata": {
    "execution": {
     "iopub.execute_input": "2022-08-02T08:10:10.092116Z",
     "iopub.status.busy": "2022-08-02T08:10:10.091645Z",
     "iopub.status.idle": "2022-08-02T08:10:15.558379Z",
     "shell.execute_reply": "2022-08-02T08:10:15.557017Z"
    },
    "papermill": {
     "duration": 5.485478,
     "end_time": "2022-08-02T08:10:15.561653",
     "exception": false,
     "start_time": "2022-08-02T08:10:10.076175",
     "status": "completed"
    },
    "tags": []
   },
   "outputs": [
    {
     "data": {
      "image/png": "[encoded data removed]",
      "text/plain": [
       "<Figure size 1152x576 with 16 Axes>"
      ]
     },
     "metadata": {},
     "output_type": "display_data"
    }
   ],
   "source": [
    "fig=plt.figure(figsize=(16, 8))\n",
    "for i, f in enumerate(floatColumns):\n",
    "    plt.style.use('ggplot')\n",
    "    plt.subplot(4, 4, i+1)\n",
    "    sns.histplot(trainDF[f])\n",
    "    plt.title('Feature: {}'.format(f))\n",
    "    plt.xlabel('')\n",
    "    \n",
    "fig.suptitle('Float Feature distributions',  size=20)\n",
    "fig.tight_layout()  \n",
    "plt.show()"
   ]
  },
  {
   "cell_type": "markdown",
   "id": "8a90e2f5",
   "metadata": {
    "papermill": {
     "duration": 0.015146,
     "end_time": "2022-08-02T08:10:15.592743",
     "exception": false,
     "start_time": "2022-08-02T08:10:15.577597",
     "status": "completed"
    },
    "tags": []
   },
   "source": [
    "📌 **Early insights:**\n",
    "\n",
    "* It seems that every `float` feature is distributed normally. By contrast, that's not what happens when talking about `ìnt` features. \n",
    "\n",
    "Thus, let's determine it. We can proceed with different methods. Let's show some of them: \n",
    "\n",
    "**Shapiro-Wilk Test** (Code taken from [TPS Jul 22 Advanced. Author: Torch me](https://www.kaggle.com/code/kartushovdanil/tps-jul-22-advanced-2-sol))\n",
    "\n",
    "This test is used to test whether a dataset is distributed normally or not. The null hypothesis is that a sample $$x_1\\hspace{0.1cm},\\hspace{0.1cm}\\cdots\\hspace{0.1cm},\\hspace{0.1cm}x_n$$ comes from a normally distributed population. It was published in 1965 by Samuel Shapiro and Martin Wilk. **It is considered one of the most powerful tests for normality testing.** The test stadistic will be: \n",
    "\n",
    "$$W = \\frac{(\\sum_{i=1}^{n}a_{i}x_i)^2}{\\sum_{i=1}^{n}(x_i - \\bar{x})^2}$$\n",
    "\n",
    "where\n",
    "\n",
    "* $x_i$ is the number occupying the i-th position in the sample (with the sample ordered from smallest to largest).\n",
    "* $\\bar{x}$ is the sample mean. \n",
    "* Variables $a_i$ are calculated this way: \n",
    "\n",
    "$$(a_1, ... , a_n) = \\frac{m^T V^{-1}}{(m^T V^{-1}V^{-1}m)^{1/2}} \\hspace{2cm}m = (m_1 , ... , m_n)$$\n",
    "\n",
    "where $m_1 , ... , m_n$ are the mean values of the ordered statistic, of independent and identically distributed random variables, sampled from normal distributions and $V$ denotes the covariance matrix of that order statistic. **The null hypothesis is rejected if W is too small. The value of W can range from 0 to 1.**"
   ]
  },
  {
   "cell_type": "code",
   "execution_count": 9,
   "id": "69fcaeb3",
   "metadata": {
    "execution": {
     "iopub.execute_input": "2022-08-02T08:10:15.625801Z",
     "iopub.status.busy": "2022-08-02T08:10:15.625082Z",
     "iopub.status.idle": "2022-08-02T08:10:15.681839Z",
     "shell.execute_reply": "2022-08-02T08:10:15.680748Z"
    },
    "papermill": {
     "duration": 0.078689,
     "end_time": "2022-08-02T08:10:15.687006",
     "exception": false,
     "start_time": "2022-08-02T08:10:15.608317",
     "status": "completed"
    },
    "tags": []
   },
   "outputs": [
    {
     "name": "stdout",
     "output_type": "stream",
     "text": [
      "Feature: attribute_2\t Hypothesis: \u001b[31mRejected\u001b[0m\n",
      "Feature: attribute_3\t Hypothesis: \u001b[31mRejected\u001b[0m\n",
      "Feature: measurement_0\t Hypothesis: \u001b[31mRejected\u001b[0m\n",
      "Feature: measurement_1\t Hypothesis: \u001b[31mRejected\u001b[0m\n",
      "Feature: measurement_2\t Hypothesis: \u001b[31mRejected\u001b[0m\n",
      "Feature: failure\t Hypothesis: \u001b[31mRejected\u001b[0m\n",
      "Feature: loading\t Hypothesis: \u001b[32mAccepted\u001b[0m\n",
      "Feature: measurement_3\t Hypothesis: \u001b[32mAccepted\u001b[0m\n",
      "Feature: measurement_4\t Hypothesis: \u001b[32mAccepted\u001b[0m\n",
      "Feature: measurement_5\t Hypothesis: \u001b[32mAccepted\u001b[0m\n",
      "Feature: measurement_6\t Hypothesis: \u001b[32mAccepted\u001b[0m\n",
      "Feature: measurement_7\t Hypothesis: \u001b[32mAccepted\u001b[0m\n",
      "Feature: measurement_8\t Hypothesis: \u001b[32mAccepted\u001b[0m\n",
      "Feature: measurement_9\t Hypothesis: \u001b[32mAccepted\u001b[0m\n",
      "Feature: measurement_10\t Hypothesis: \u001b[32mAccepted\u001b[0m\n",
      "Feature: measurement_11\t Hypothesis: \u001b[32mAccepted\u001b[0m\n",
      "Feature: measurement_12\t Hypothesis: \u001b[32mAccepted\u001b[0m\n",
      "Feature: measurement_13\t Hypothesis: \u001b[32mAccepted\u001b[0m\n",
      "Feature: measurement_14\t Hypothesis: \u001b[32mAccepted\u001b[0m\n",
      "Feature: measurement_15\t Hypothesis: \u001b[32mAccepted\u001b[0m\n",
      "Feature: measurement_16\t Hypothesis: \u001b[32mAccepted\u001b[0m\n",
      "Feature: measurement_17\t Hypothesis: \u001b[32mAccepted\u001b[0m\n"
     ]
    },
    {
     "name": "stderr",
     "output_type": "stream",
     "text": [
      "/opt/conda/lib/python3.7/site-packages/scipy/stats/morestats.py:1760: UserWarning: p-value may not be accurate for N > 5000.\n",
      "  warnings.warn(\"p-value may not be accurate for N > 5000.\")\n"
     ]
    }
   ],
   "source": [
    "for col in intColumns+floatColumns:\n",
    "    stat, p_value = shapiro(trainDF[col])  \n",
    "    alpha = 0.05\n",
    "    if p_value > alpha: \n",
    "        result = colored('Accepted', 'green')  \n",
    "    else:\n",
    "        result = colored('Rejected','red')        \n",
    "    print('Feature: {}\\t Hypothesis: {}'.format(col, result))"
   ]
  },
  {
   "cell_type": "markdown",
   "id": "24499b5b",
   "metadata": {
    "papermill": {
     "duration": 0.015328,
     "end_time": "2022-08-02T08:10:15.718794",
     "exception": false,
     "start_time": "2022-08-02T08:10:15.703466",
     "status": "completed"
    },
    "tags": []
   },
   "source": [
    "> Finally distribution of dependent vairable and from the first look itself, it seem to be an imbalance in dependen feature which wee need to tackle in model creation."
   ]
  },
  {
   "cell_type": "code",
   "execution_count": 10,
   "id": "d5e5bde0",
   "metadata": {
    "execution": {
     "iopub.execute_input": "2022-08-02T08:10:15.752200Z",
     "iopub.status.busy": "2022-08-02T08:10:15.751764Z",
     "iopub.status.idle": "2022-08-02T08:10:15.979157Z",
     "shell.execute_reply": "2022-08-02T08:10:15.978218Z"
    },
    "papermill": {
     "duration": 0.246728,
     "end_time": "2022-08-02T08:10:15.981622",
     "exception": false,
     "start_time": "2022-08-02T08:10:15.734894",
     "status": "completed"
    },
    "tags": []
   },
   "outputs": [
    {
     "data": {
      "text/plain": [
       "<AxesSubplot:xlabel='failure', ylabel='Count'>"
      ]
     },
     "execution_count": 10,
     "metadata": {},
     "output_type": "execute_result"
    },
    {
     "data": {
      "image/png": "[encoded data removed]",
      "text/plain": [
       "<Figure size 432x288 with 1 Axes>"
      ]
     },
     "metadata": {},
     "output_type": "display_data"
    }
   ],
   "source": [
    "sns.histplot(trainDF['failure'])"
   ]
  },
  {
   "cell_type": "markdown",
   "id": "f6de5d21",
   "metadata": {
    "papermill": {
     "duration": 0.015889,
     "end_time": "2022-08-02T08:10:16.013675",
     "exception": false,
     "start_time": "2022-08-02T08:10:15.997786",
     "status": "completed"
    },
    "tags": []
   },
   "source": [
    "It's convenient not to use features that are correlated (hence redundant), when trying to make a proper ML application. Thus, in this section, our main aim will be to analyse the different relationships between each of the features. Thus, we'll be able to determine which features are linearly related.\n",
    "\n",
    "📌 Insights:\n",
    "\n",
    "It seems that attribute features are lightly correlated with measurement features.\n",
    "When talking about float features, if we recap which features are normally distributed and these features seem to  be correlated.\n",
    "Most correlated features are attribute_01 and attribute_00."
   ]
  },
  {
   "cell_type": "code",
   "execution_count": 11,
   "id": "9c9b146f",
   "metadata": {
    "execution": {
     "iopub.execute_input": "2022-08-02T08:10:16.048632Z",
     "iopub.status.busy": "2022-08-02T08:10:16.047793Z",
     "iopub.status.idle": "2022-08-02T08:10:16.594865Z",
     "shell.execute_reply": "2022-08-02T08:10:16.593652Z"
    },
    "papermill": {
     "duration": 0.567795,
     "end_time": "2022-08-02T08:10:16.597513",
     "exception": false,
     "start_time": "2022-08-02T08:10:16.029718",
     "status": "completed"
    },
    "tags": []
   },
   "outputs": [
    {
     "data": {
      "text/plain": [
       "Text(0.5, 1.0, 'Correlations')"
      ]
     },
     "execution_count": 11,
     "metadata": {},
     "output_type": "execute_result"
    },
    {
     "data": {
      "image/png": "[encoded data removed]",
      "text/plain": [
       "<Figure size 864x432 with 2 Axes>"
      ]
     },
     "metadata": {},
     "output_type": "display_data"
    }
   ],
   "source": [
    "plt.figure(figsize=(12,6))\n",
    "corr = trainPseudoDF.corr()\n",
    "matrix = np.triu(corr)\n",
    "sns.heatmap(corr, mask = matrix, center = 0, cmap = 'vlag').set_title('Correlations')"
   ]
  },
  {
   "cell_type": "markdown",
   "id": "e500bf49",
   "metadata": {
    "papermill": {
     "duration": 0.016887,
     "end_time": "2022-08-02T08:10:16.631755",
     "exception": false,
     "start_time": "2022-08-02T08:10:16.614868",
     "status": "completed"
    },
    "tags": []
   },
   "source": [
    "# <b>3 <span style='color:#3f4d63'>|</span> Feature Engineering</b>"
   ]
  },
  {
   "cell_type": "markdown",
   "id": "18916a38",
   "metadata": {
    "papermill": {
     "duration": 0.016983,
     "end_time": "2022-08-02T08:10:16.666012",
     "exception": false,
     "start_time": "2022-08-02T08:10:16.649029",
     "status": "completed"
    },
    "tags": []
   },
   "source": [
    "<div style=\"color:white;display:fill;\n",
    "            background-color:#3f4d6f;font-size:150%;\n",
    "            font-family:Nexa;letter-spacing:0.5px\">\n",
    "    <p style=\"padding: 8px;color:white;\"><b>3.1 | Handling Categorical Values</b></p>\n",
    "</div>\n",
    "\n",
    "Firsly we will have glimpse on the values of the categorical feature so that we can come up with a strategy of handling categorical values."
   ]
  },
  {
   "cell_type": "code",
   "execution_count": 12,
   "id": "de0a8dca",
   "metadata": {
    "execution": {
     "iopub.execute_input": "2022-08-02T08:10:16.703143Z",
     "iopub.status.busy": "2022-08-02T08:10:16.702360Z",
     "iopub.status.idle": "2022-08-02T08:10:16.713932Z",
     "shell.execute_reply": "2022-08-02T08:10:16.713127Z"
    },
    "papermill": {
     "duration": 0.033047,
     "end_time": "2022-08-02T08:10:16.716490",
     "exception": false,
     "start_time": "2022-08-02T08:10:16.683443",
     "status": "completed"
    },
    "tags": []
   },
   "outputs": [
    {
     "name": "stdout",
     "output_type": "stream",
     "text": [
      "Unique Values for product_code -> ['A' 'B' 'C' 'D' 'E']\n",
      "Unique Values for attribute_0 -> ['material_7' 'material_5']\n",
      "Unique Values for attribute_1 -> ['material_8' 'material_5' 'material_6']\n"
     ]
    }
   ],
   "source": [
    "for i in stringColumns:\n",
    "    print('Unique Values for {} -> {}'.format(i, trainDF[i].unique()))"
   ]
  },
  {
   "cell_type": "markdown",
   "id": "3aff587f",
   "metadata": {
    "papermill": {
     "duration": 0.017936,
     "end_time": "2022-08-02T08:10:16.751637",
     "exception": false,
     "start_time": "2022-08-02T08:10:16.733701",
     "status": "completed"
    },
    "tags": []
   },
   "source": [
    "* **Proudct Type:** Product type seem to have 5 distinct values in train and 4 distinct values in test thus it not feasable to use any encoder technique to apply on product type as it will have no information of product code importance while predicting for test set.\n",
    "* **Attribute 0:** we can simply fetch number from their values by removing material and use it as final feature and alos same for test set feature as thses values contain in both train and test set.\n",
    "* **Attribute 0**: we can simply fetch number from their values by removing material and use it as final feature and alos same for test set feature as thses values contain in both train and test set."
   ]
  },
  {
   "cell_type": "code",
   "execution_count": 13,
   "id": "fccc9b31",
   "metadata": {
    "execution": {
     "iopub.execute_input": "2022-08-02T08:10:16.788529Z",
     "iopub.status.busy": "2022-08-02T08:10:16.787710Z",
     "iopub.status.idle": "2022-08-02T08:10:17.082090Z",
     "shell.execute_reply": "2022-08-02T08:10:17.080923Z"
    },
    "papermill": {
     "duration": 0.315967,
     "end_time": "2022-08-02T08:10:17.085054",
     "exception": false,
     "start_time": "2022-08-02T08:10:16.769087",
     "status": "completed"
    },
    "tags": []
   },
   "outputs": [],
   "source": [
    "trainPseudoDF['attribute_1'] = trainPseudoDF['attribute_1'].str.split('_', 1).str[1].astype('int')\n",
    "trainPseudoDF['attribute_0'] = trainPseudoDF['attribute_0'].str.split('_', 1).str[1].astype('int')"
   ]
  },
  {
   "cell_type": "markdown",
   "id": "7b7216a2",
   "metadata": {
    "papermill": {
     "duration": 0.017158,
     "end_time": "2022-08-02T08:10:17.119471",
     "exception": false,
     "start_time": "2022-08-02T08:10:17.102313",
     "status": "completed"
    },
    "tags": []
   },
   "source": [
    "<div style=\"color:white;display:fill;\n",
    "            background-color:#3f4d6f;font-size:150%;\n",
    "            font-family:Nexa;letter-spacing:0.5px\">\n",
    "    <p style=\"padding: 8px;color:white;\"><b>3.2 | Handling Missing Values</b></p>\n",
    "</div>\n",
    "\n",
    "📌 **Early insights:**\n",
    "\n",
    "* All the null values in float value features. \n",
    "* All the floating value feature are normally distributed\n",
    "* **Null Values/ Missing Values**: Because of the above insights replacing the missing values with mean seem to be most easy, less computaional and efficient solution."
   ]
  },
  {
   "cell_type": "code",
   "execution_count": 14,
   "id": "c2d1b4c9",
   "metadata": {
    "execution": {
     "iopub.execute_input": "2022-08-02T08:10:17.156358Z",
     "iopub.status.busy": "2022-08-02T08:10:17.155917Z",
     "iopub.status.idle": "2022-08-02T08:10:17.178101Z",
     "shell.execute_reply": "2022-08-02T08:10:17.177214Z"
    },
    "papermill": {
     "duration": 0.043407,
     "end_time": "2022-08-02T08:10:17.180560",
     "exception": false,
     "start_time": "2022-08-02T08:10:17.137153",
     "status": "completed"
    },
    "tags": []
   },
   "outputs": [],
   "source": [
    "for col in floatColumns:\n",
    "    if trainPseudoDF[col].isnull().sum():\n",
    "        trainPseudoDF[col].fillna(trainPseudoDF[col].mean(), inplace=True)"
   ]
  },
  {
   "cell_type": "code",
   "execution_count": 15,
   "id": "6fa35b27",
   "metadata": {
    "execution": {
     "iopub.execute_input": "2022-08-02T08:10:17.217665Z",
     "iopub.status.busy": "2022-08-02T08:10:17.216678Z",
     "iopub.status.idle": "2022-08-02T08:10:17.234511Z",
     "shell.execute_reply": "2022-08-02T08:10:17.233256Z"
    },
    "papermill": {
     "duration": 0.038966,
     "end_time": "2022-08-02T08:10:17.236889",
     "exception": false,
     "start_time": "2022-08-02T08:10:17.197923",
     "status": "completed"
    },
    "tags": []
   },
   "outputs": [
    {
     "data": {
      "text/plain": [
       "loading           0\n",
       "measurement_3     0\n",
       "measurement_4     0\n",
       "measurement_5     0\n",
       "measurement_6     0\n",
       "measurement_7     0\n",
       "measurement_8     0\n",
       "measurement_9     0\n",
       "measurement_10    0\n",
       "measurement_11    0\n",
       "measurement_12    0\n",
       "measurement_13    0\n",
       "measurement_14    0\n",
       "measurement_15    0\n",
       "measurement_16    0\n",
       "measurement_17    0\n",
       "dtype: int64"
      ]
     },
     "execution_count": 15,
     "metadata": {},
     "output_type": "execute_result"
    }
   ],
   "source": [
    "trainPseudoDF[floatColumns].isnull().sum()"
   ]
  },
  {
   "cell_type": "markdown",
   "id": "40701d95",
   "metadata": {
    "papermill": {
     "duration": 0.018869,
     "end_time": "2022-08-02T08:10:17.273306",
     "exception": false,
     "start_time": "2022-08-02T08:10:17.254437",
     "status": "completed"
    },
    "tags": []
   },
   "source": [
    "<div style=\"color:white;display:fill;\n",
    "            background-color:#3f4d6f;font-size:150%;\n",
    "            font-family:Nexa;letter-spacing:0.5px\">\n",
    "    <p style=\"padding: 8px;color:white;\"><b>3.3 | Feature Scaling</b></p>\n",
    "</div>\n",
    "\n",
    "📌 **Early insights:**\n",
    "* As we know, there is a drastic change in range of integer, floating values features and in categorical feature thus it semm feasible to bring all feature value in a single range this scaling feature seems to be a logical steps"
   ]
  },
  {
   "cell_type": "code",
   "execution_count": 16,
   "id": "c8c0d12b",
   "metadata": {
    "execution": {
     "iopub.execute_input": "2022-08-02T08:10:17.309689Z",
     "iopub.status.busy": "2022-08-02T08:10:17.309287Z",
     "iopub.status.idle": "2022-08-02T08:10:17.377753Z",
     "shell.execute_reply": "2022-08-02T08:10:17.376486Z"
    },
    "papermill": {
     "duration": 0.089822,
     "end_time": "2022-08-02T08:10:17.380466",
     "exception": false,
     "start_time": "2022-08-02T08:10:17.290644",
     "status": "completed"
    },
    "tags": []
   },
   "outputs": [
    {
     "data": {
      "text/html": [
       "<div>\n",
       "<style scoped>\n",
       "    .dataframe tbody tr th:only-of-type {\n",
       "        vertical-align: middle;\n",
       "    }\n",
       "\n",
       "    .dataframe tbody tr th {\n",
       "        vertical-align: top;\n",
       "    }\n",
       "\n",
       "    .dataframe thead th {\n",
       "        text-align: right;\n",
       "    }\n",
       "</style>\n",
       "<table border=\"1\" class=\"dataframe\">\n",
       "  <thead>\n",
       "    <tr style=\"text-align: right;\">\n",
       "      <th></th>\n",
       "      <th>loading</th>\n",
       "      <th>attribute_0</th>\n",
       "      <th>attribute_1</th>\n",
       "      <th>attribute_2</th>\n",
       "      <th>attribute_3</th>\n",
       "      <th>measurement_0</th>\n",
       "      <th>measurement_1</th>\n",
       "      <th>measurement_2</th>\n",
       "      <th>measurement_3</th>\n",
       "      <th>measurement_4</th>\n",
       "      <th>...</th>\n",
       "      <th>measurement_8</th>\n",
       "      <th>measurement_9</th>\n",
       "      <th>measurement_10</th>\n",
       "      <th>measurement_11</th>\n",
       "      <th>measurement_12</th>\n",
       "      <th>measurement_13</th>\n",
       "      <th>measurement_14</th>\n",
       "      <th>measurement_15</th>\n",
       "      <th>measurement_16</th>\n",
       "      <th>measurement_17</th>\n",
       "    </tr>\n",
       "  </thead>\n",
       "  <tbody>\n",
       "    <tr>\n",
       "      <th>0</th>\n",
       "      <td>-1.228625</td>\n",
       "      <td>0.496233</td>\n",
       "      <td>1.158182</td>\n",
       "      <td>1.525966</td>\n",
       "      <td>-1.538285</td>\n",
       "      <td>-0.101025</td>\n",
       "      <td>-0.055370</td>\n",
       "      <td>-0.681939</td>\n",
       "      <td>0.249978</td>\n",
       "      <td>7.972294e-01</td>\n",
       "      <td>...</td>\n",
       "      <td>1.143458</td>\n",
       "      <td>-7.775613e-01</td>\n",
       "      <td>-0.188685</td>\n",
       "      <td>-1.067610</td>\n",
       "      <td>2.418513</td>\n",
       "      <td>-0.559057</td>\n",
       "      <td>0.000000</td>\n",
       "      <td>-1.316944</td>\n",
       "      <td>-1.083606</td>\n",
       "      <td>0.532994</td>\n",
       "    </tr>\n",
       "    <tr>\n",
       "      <th>1</th>\n",
       "      <td>-1.105315</td>\n",
       "      <td>0.496233</td>\n",
       "      <td>1.158182</td>\n",
       "      <td>1.525966</td>\n",
       "      <td>-1.538285</td>\n",
       "      <td>1.599402</td>\n",
       "      <td>-1.246039</td>\n",
       "      <td>-0.984141</td>\n",
       "      <td>0.424027</td>\n",
       "      <td>-1.947277e-01</td>\n",
       "      <td>...</td>\n",
       "      <td>-1.148949</td>\n",
       "      <td>1.042531e+00</td>\n",
       "      <td>1.334153</td>\n",
       "      <td>-0.850447</td>\n",
       "      <td>0.036401</td>\n",
       "      <td>-0.825188</td>\n",
       "      <td>-0.433453</td>\n",
       "      <td>-0.403199</td>\n",
       "      <td>-0.506041</td>\n",
       "      <td>-0.162976</td>\n",
       "    </tr>\n",
       "    <tr>\n",
       "      <th>2</th>\n",
       "      <td>-1.168644</td>\n",
       "      <td>0.496233</td>\n",
       "      <td>1.158182</td>\n",
       "      <td>1.525966</td>\n",
       "      <td>-1.538285</td>\n",
       "      <td>1.113565</td>\n",
       "      <td>-1.722306</td>\n",
       "      <td>-0.379737</td>\n",
       "      <td>0.267081</td>\n",
       "      <td>-8.112937e-02</td>\n",
       "      <td>...</td>\n",
       "      <td>-0.745299</td>\n",
       "      <td>1.316160e+00</td>\n",
       "      <td>-0.372476</td>\n",
       "      <td>0.000000</td>\n",
       "      <td>1.451949</td>\n",
       "      <td>0.948121</td>\n",
       "      <td>1.795538</td>\n",
       "      <td>-0.605283</td>\n",
       "      <td>0.905852</td>\n",
       "      <td>-0.321446</td>\n",
       "    </tr>\n",
       "    <tr>\n",
       "      <th>3</th>\n",
       "      <td>-0.688791</td>\n",
       "      <td>0.496233</td>\n",
       "      <td>1.158182</td>\n",
       "      <td>1.525966</td>\n",
       "      <td>-1.538285</td>\n",
       "      <td>1.356484</td>\n",
       "      <td>-1.484172</td>\n",
       "      <td>-0.077535</td>\n",
       "      <td>-0.499536</td>\n",
       "      <td>-5.517511e-01</td>\n",
       "      <td>...</td>\n",
       "      <td>0.035697</td>\n",
       "      <td>1.066102e+00</td>\n",
       "      <td>0.166498</td>\n",
       "      <td>-0.537893</td>\n",
       "      <td>-1.165742</td>\n",
       "      <td>-0.361027</td>\n",
       "      <td>-0.338203</td>\n",
       "      <td>0.777754</td>\n",
       "      <td>0.433798</td>\n",
       "      <td>1.060484</td>\n",
       "    </tr>\n",
       "    <tr>\n",
       "      <th>4</th>\n",
       "      <td>1.550609</td>\n",
       "      <td>0.496233</td>\n",
       "      <td>1.158182</td>\n",
       "      <td>1.525966</td>\n",
       "      <td>-1.538285</td>\n",
       "      <td>0.384811</td>\n",
       "      <td>-1.484172</td>\n",
       "      <td>0.526868</td>\n",
       "      <td>1.563892</td>\n",
       "      <td>1.235394e+00</td>\n",
       "      <td>...</td>\n",
       "      <td>-0.942571</td>\n",
       "      <td>-1.120878e+00</td>\n",
       "      <td>0.703284</td>\n",
       "      <td>0.514099</td>\n",
       "      <td>0.502707</td>\n",
       "      <td>0.474104</td>\n",
       "      <td>-2.286311</td>\n",
       "      <td>-1.237050</td>\n",
       "      <td>-0.029718</td>\n",
       "      <td>-1.029700</td>\n",
       "    </tr>\n",
       "    <tr>\n",
       "      <th>...</th>\n",
       "      <td>...</td>\n",
       "      <td>...</td>\n",
       "      <td>...</td>\n",
       "      <td>...</td>\n",
       "      <td>...</td>\n",
       "      <td>...</td>\n",
       "      <td>...</td>\n",
       "      <td>...</td>\n",
       "      <td>...</td>\n",
       "      <td>...</td>\n",
       "      <td>...</td>\n",
       "      <td>...</td>\n",
       "      <td>...</td>\n",
       "      <td>...</td>\n",
       "      <td>...</td>\n",
       "      <td>...</td>\n",
       "      <td>...</td>\n",
       "      <td>...</td>\n",
       "      <td>...</td>\n",
       "      <td>...</td>\n",
       "      <td>...</td>\n",
       "    </tr>\n",
       "    <tr>\n",
       "      <th>26565</th>\n",
       "      <td>0.801225</td>\n",
       "      <td>0.496233</td>\n",
       "      <td>-0.315192</td>\n",
       "      <td>-0.512321</td>\n",
       "      <td>1.208090</td>\n",
       "      <td>-0.343944</td>\n",
       "      <td>1.849699</td>\n",
       "      <td>-0.681939</td>\n",
       "      <td>-1.499560</td>\n",
       "      <td>1.548804e+00</td>\n",
       "      <td>...</td>\n",
       "      <td>0.333123</td>\n",
       "      <td>-1.820458e-15</td>\n",
       "      <td>-2.874073</td>\n",
       "      <td>-0.832181</td>\n",
       "      <td>-1.101997</td>\n",
       "      <td>0.127327</td>\n",
       "      <td>1.754518</td>\n",
       "      <td>0.771041</td>\n",
       "      <td>0.000000</td>\n",
       "      <td>0.236353</td>\n",
       "    </tr>\n",
       "    <tr>\n",
       "      <th>26566</th>\n",
       "      <td>0.468366</td>\n",
       "      <td>0.496233</td>\n",
       "      <td>-0.315192</td>\n",
       "      <td>-0.512321</td>\n",
       "      <td>1.208090</td>\n",
       "      <td>0.627729</td>\n",
       "      <td>0.897164</td>\n",
       "      <td>0.526868</td>\n",
       "      <td>-0.250034</td>\n",
       "      <td>1.801707e-15</td>\n",
       "      <td>...</td>\n",
       "      <td>0.544559</td>\n",
       "      <td>-1.934100e-01</td>\n",
       "      <td>-1.413957</td>\n",
       "      <td>0.941662</td>\n",
       "      <td>-1.017466</td>\n",
       "      <td>-1.077878</td>\n",
       "      <td>-1.200321</td>\n",
       "      <td>-1.241749</td>\n",
       "      <td>0.006265</td>\n",
       "      <td>1.294970</td>\n",
       "    </tr>\n",
       "    <tr>\n",
       "      <th>26567</th>\n",
       "      <td>-0.314227</td>\n",
       "      <td>0.496233</td>\n",
       "      <td>-0.315192</td>\n",
       "      <td>-0.512321</td>\n",
       "      <td>1.208090</td>\n",
       "      <td>-1.558534</td>\n",
       "      <td>0.420897</td>\n",
       "      <td>-1.588544</td>\n",
       "      <td>-2.134384</td>\n",
       "      <td>-1.997991e-01</td>\n",
       "      <td>...</td>\n",
       "      <td>0.257249</td>\n",
       "      <td>-2.431354e-02</td>\n",
       "      <td>0.232867</td>\n",
       "      <td>-1.147440</td>\n",
       "      <td>-2.102512</td>\n",
       "      <td>-0.523215</td>\n",
       "      <td>0.382777</td>\n",
       "      <td>0.399098</td>\n",
       "      <td>-1.461127</td>\n",
       "      <td>0.416472</td>\n",
       "    </tr>\n",
       "    <tr>\n",
       "      <th>26568</th>\n",
       "      <td>-0.552094</td>\n",
       "      <td>0.496233</td>\n",
       "      <td>-0.315192</td>\n",
       "      <td>-0.512321</td>\n",
       "      <td>1.208090</td>\n",
       "      <td>-1.315616</td>\n",
       "      <td>0.182763</td>\n",
       "      <td>-0.681939</td>\n",
       "      <td>0.269093</td>\n",
       "      <td>1.801707e-15</td>\n",
       "      <td>...</td>\n",
       "      <td>0.337170</td>\n",
       "      <td>-3.968595e-02</td>\n",
       "      <td>0.690156</td>\n",
       "      <td>-0.918776</td>\n",
       "      <td>2.234901</td>\n",
       "      <td>0.555646</td>\n",
       "      <td>-0.391738</td>\n",
       "      <td>-0.920831</td>\n",
       "      <td>-2.192994</td>\n",
       "      <td>0.245048</td>\n",
       "    </tr>\n",
       "    <tr>\n",
       "      <th>26569</th>\n",
       "      <td>0.086852</td>\n",
       "      <td>0.496233</td>\n",
       "      <td>-0.315192</td>\n",
       "      <td>-0.512321</td>\n",
       "      <td>1.208090</td>\n",
       "      <td>-0.343944</td>\n",
       "      <td>2.564100</td>\n",
       "      <td>-1.588544</td>\n",
       "      <td>0.243942</td>\n",
       "      <td>-3.052833e-01</td>\n",
       "      <td>...</td>\n",
       "      <td>-0.297137</td>\n",
       "      <td>-8.400757e-01</td>\n",
       "      <td>-0.375393</td>\n",
       "      <td>0.359176</td>\n",
       "      <td>-0.482564</td>\n",
       "      <td>0.199012</td>\n",
       "      <td>-1.864986</td>\n",
       "      <td>1.028178</td>\n",
       "      <td>0.871698</td>\n",
       "      <td>-0.839096</td>\n",
       "    </tr>\n",
       "  </tbody>\n",
       "</table>\n",
       "<p>26570 rows × 23 columns</p>\n",
       "</div>"
      ],
      "text/plain": [
       "        loading  attribute_0  attribute_1  attribute_2  attribute_3  \\\n",
       "0     -1.228625     0.496233     1.158182     1.525966    -1.538285   \n",
       "1     -1.105315     0.496233     1.158182     1.525966    -1.538285   \n",
       "2     -1.168644     0.496233     1.158182     1.525966    -1.538285   \n",
       "3     -0.688791     0.496233     1.158182     1.525966    -1.538285   \n",
       "4      1.550609     0.496233     1.158182     1.525966    -1.538285   \n",
       "...         ...          ...          ...          ...          ...   \n",
       "26565  0.801225     0.496233    -0.315192    -0.512321     1.208090   \n",
       "26566  0.468366     0.496233    -0.315192    -0.512321     1.208090   \n",
       "26567 -0.314227     0.496233    -0.315192    -0.512321     1.208090   \n",
       "26568 -0.552094     0.496233    -0.315192    -0.512321     1.208090   \n",
       "26569  0.086852     0.496233    -0.315192    -0.512321     1.208090   \n",
       "\n",
       "       measurement_0  measurement_1  measurement_2  measurement_3  \\\n",
       "0          -0.101025      -0.055370      -0.681939       0.249978   \n",
       "1           1.599402      -1.246039      -0.984141       0.424027   \n",
       "2           1.113565      -1.722306      -0.379737       0.267081   \n",
       "3           1.356484      -1.484172      -0.077535      -0.499536   \n",
       "4           0.384811      -1.484172       0.526868       1.563892   \n",
       "...              ...            ...            ...            ...   \n",
       "26565      -0.343944       1.849699      -0.681939      -1.499560   \n",
       "26566       0.627729       0.897164       0.526868      -0.250034   \n",
       "26567      -1.558534       0.420897      -1.588544      -2.134384   \n",
       "26568      -1.315616       0.182763      -0.681939       0.269093   \n",
       "26569      -0.343944       2.564100      -1.588544       0.243942   \n",
       "\n",
       "       measurement_4  ...  measurement_8  measurement_9  measurement_10  \\\n",
       "0       7.972294e-01  ...       1.143458  -7.775613e-01       -0.188685   \n",
       "1      -1.947277e-01  ...      -1.148949   1.042531e+00        1.334153   \n",
       "2      -8.112937e-02  ...      -0.745299   1.316160e+00       -0.372476   \n",
       "3      -5.517511e-01  ...       0.035697   1.066102e+00        0.166498   \n",
       "4       1.235394e+00  ...      -0.942571  -1.120878e+00        0.703284   \n",
       "...              ...  ...            ...            ...             ...   \n",
       "26565   1.548804e+00  ...       0.333123  -1.820458e-15       -2.874073   \n",
       "26566   1.801707e-15  ...       0.544559  -1.934100e-01       -1.413957   \n",
       "26567  -1.997991e-01  ...       0.257249  -2.431354e-02        0.232867   \n",
       "26568   1.801707e-15  ...       0.337170  -3.968595e-02        0.690156   \n",
       "26569  -3.052833e-01  ...      -0.297137  -8.400757e-01       -0.375393   \n",
       "\n",
       "       measurement_11  measurement_12  measurement_13  measurement_14  \\\n",
       "0           -1.067610        2.418513       -0.559057        0.000000   \n",
       "1           -0.850447        0.036401       -0.825188       -0.433453   \n",
       "2            0.000000        1.451949        0.948121        1.795538   \n",
       "3           -0.537893       -1.165742       -0.361027       -0.338203   \n",
       "4            0.514099        0.502707        0.474104       -2.286311   \n",
       "...               ...             ...             ...             ...   \n",
       "26565       -0.832181       -1.101997        0.127327        1.754518   \n",
       "26566        0.941662       -1.017466       -1.077878       -1.200321   \n",
       "26567       -1.147440       -2.102512       -0.523215        0.382777   \n",
       "26568       -0.918776        2.234901        0.555646       -0.391738   \n",
       "26569        0.359176       -0.482564        0.199012       -1.864986   \n",
       "\n",
       "       measurement_15  measurement_16  measurement_17  \n",
       "0           -1.316944       -1.083606        0.532994  \n",
       "1           -0.403199       -0.506041       -0.162976  \n",
       "2           -0.605283        0.905852       -0.321446  \n",
       "3            0.777754        0.433798        1.060484  \n",
       "4           -1.237050       -0.029718       -1.029700  \n",
       "...               ...             ...             ...  \n",
       "26565        0.771041        0.000000        0.236353  \n",
       "26566       -1.241749        0.006265        1.294970  \n",
       "26567        0.399098       -1.461127        0.416472  \n",
       "26568       -0.920831       -2.192994        0.245048  \n",
       "26569        1.028178        0.871698       -0.839096  \n",
       "\n",
       "[26570 rows x 23 columns]"
      ]
     },
     "execution_count": 16,
     "metadata": {},
     "output_type": "execute_result"
    }
   ],
   "source": [
    "scalerModel = StandardScaler().fit(trainPseudoDF.drop(['failure', 'product_code'], axis=1))\n",
    "scaledPseudoDF = scalerModel.transform(trainPseudoDF.drop(['failure', 'product_code'], axis=1))\n",
    "scaledPseudoDF = pd.DataFrame(scaledPseudoDF, columns=trainPseudoDF.drop(['failure', 'product_code'], axis=1).columns)\n",
    "scaledPseudoDF"
   ]
  },
  {
   "cell_type": "code",
   "execution_count": 17,
   "id": "c5a00cb5",
   "metadata": {
    "execution": {
     "iopub.execute_input": "2022-08-02T08:10:17.419141Z",
     "iopub.status.busy": "2022-08-02T08:10:17.418693Z",
     "iopub.status.idle": "2022-08-02T08:10:17.426109Z",
     "shell.execute_reply": "2022-08-02T08:10:17.424836Z"
    },
    "papermill": {
     "duration": 0.029928,
     "end_time": "2022-08-02T08:10:17.428516",
     "exception": false,
     "start_time": "2022-08-02T08:10:17.398588",
     "status": "completed"
    },
    "tags": []
   },
   "outputs": [],
   "source": [
    "scaledPseudoDF['product_code'] = trainPseudoDF['product_code']\n",
    "scaledPseudoDF['failure'] = trainPseudoDF['failure']"
   ]
  },
  {
   "cell_type": "markdown",
   "id": "305c1ab5",
   "metadata": {
    "papermill": {
     "duration": 0.017767,
     "end_time": "2022-08-02T08:10:17.464328",
     "exception": false,
     "start_time": "2022-08-02T08:10:17.446561",
     "status": "completed"
    },
    "tags": []
   },
   "source": [
    "* Lets see the correlation after scaling"
   ]
  },
  {
   "cell_type": "code",
   "execution_count": 18,
   "id": "2a85d84c",
   "metadata": {
    "execution": {
     "iopub.execute_input": "2022-08-02T08:10:17.502414Z",
     "iopub.status.busy": "2022-08-02T08:10:17.501956Z",
     "iopub.status.idle": "2022-08-02T08:10:18.171012Z",
     "shell.execute_reply": "2022-08-02T08:10:18.169839Z"
    },
    "papermill": {
     "duration": 0.691115,
     "end_time": "2022-08-02T08:10:18.173444",
     "exception": false,
     "start_time": "2022-08-02T08:10:17.482329",
     "status": "completed"
    },
    "tags": []
   },
   "outputs": [
    {
     "data": {
      "text/plain": [
       "Text(0.5, 1.0, 'Correlations')"
      ]
     },
     "execution_count": 18,
     "metadata": {},
     "output_type": "execute_result"
    },
    {
     "data": {
      "image/png": "[encoded data removed]",
      "text/plain": [
       "<Figure size 864x432 with 2 Axes>"
      ]
     },
     "metadata": {},
     "output_type": "display_data"
    }
   ],
   "source": [
    "plt.figure(figsize=(12,6))\n",
    "corr = scaledPseudoDF.corr()\n",
    "matrix = np.triu(corr)\n",
    "sns.heatmap(corr, mask = matrix, center = 0, cmap = 'vlag').set_title('Correlations')"
   ]
  },
  {
   "cell_type": "markdown",
   "id": "35acba57",
   "metadata": {
    "papermill": {
     "duration": 0.019062,
     "end_time": "2022-08-02T08:10:18.212390",
     "exception": false,
     "start_time": "2022-08-02T08:10:18.193328",
     "status": "completed"
    },
    "tags": []
   },
   "source": [
    "<div style=\"color:white;display:fill;\n",
    "            background-color:#3f4d6f;font-size:150%;\n",
    "            font-family:Nexa;letter-spacing:0.5px\">\n",
    "    <p style=\"padding: 8px;color:white;\"><b>3.4 | Handling outliers</b></p>\n",
    "</div>"
   ]
  },
  {
   "cell_type": "code",
   "execution_count": 19,
   "id": "5c1e883e",
   "metadata": {
    "execution": {
     "iopub.execute_input": "2022-08-02T08:10:18.253468Z",
     "iopub.status.busy": "2022-08-02T08:10:18.253004Z",
     "iopub.status.idle": "2022-08-02T08:10:18.527722Z",
     "shell.execute_reply": "2022-08-02T08:10:18.526321Z"
    },
    "papermill": {
     "duration": 0.298711,
     "end_time": "2022-08-02T08:10:18.530551",
     "exception": false,
     "start_time": "2022-08-02T08:10:18.231840",
     "status": "completed"
    },
    "tags": []
   },
   "outputs": [
    {
     "data": {
      "image/png": "[encoded data removed]",
      "text/plain": [
       "<Figure size 1152x288 with 1 Axes>"
      ]
     },
     "metadata": {},
     "output_type": "display_data"
    }
   ],
   "source": [
    "tmpDF = pd.DataFrame(data = scaledPseudoDF[intColumns].drop('failure', axis=1))\n",
    "plt.figure(figsize=(16,4)) \n",
    "sns.boxplot(x=\"variable\", y=\"value\", data=pd.melt(tmpDF)).set_title('Boxplot of each feature',size=15)\n",
    "plt.show()"
   ]
  },
  {
   "cell_type": "markdown",
   "id": "201e1dec",
   "metadata": {
    "papermill": {
     "duration": 0.019751,
     "end_time": "2022-08-02T08:10:18.570448",
     "exception": false,
     "start_time": "2022-08-02T08:10:18.550697",
     "status": "completed"
    },
    "tags": []
   },
   "source": [
    "* Floating value feature seems to have nore outliers compaired to integer value feature let more to find out about outlieries in floating value features."
   ]
  },
  {
   "cell_type": "code",
   "execution_count": 20,
   "id": "1db86326",
   "metadata": {
    "execution": {
     "iopub.execute_input": "2022-08-02T08:10:18.612208Z",
     "iopub.status.busy": "2022-08-02T08:10:18.611780Z",
     "iopub.status.idle": "2022-08-02T08:10:19.218711Z",
     "shell.execute_reply": "2022-08-02T08:10:19.217546Z"
    },
    "papermill": {
     "duration": 0.63057,
     "end_time": "2022-08-02T08:10:19.221259",
     "exception": false,
     "start_time": "2022-08-02T08:10:18.590689",
     "status": "completed"
    },
    "tags": []
   },
   "outputs": [
    {
     "data": {
      "image/png": "[encoded data removed]",
      "text/plain": [
       "<Figure size 1152x288 with 1 Axes>"
      ]
     },
     "metadata": {},
     "output_type": "display_data"
    }
   ],
   "source": [
    "tmpDF = pd.DataFrame(data = scaledPseudoDF[floatColumns])\n",
    "plt.figure(figsize=(16,4)) \n",
    "sns.boxplot(x=\"variable\", y=\"value\", data=pd.melt(tmpDF)).set_title('Boxplot of each feature',size=15)\n",
    "plt.show()"
   ]
  },
  {
   "cell_type": "code",
   "execution_count": 21,
   "id": "dee505d3",
   "metadata": {
    "execution": {
     "iopub.execute_input": "2022-08-02T08:10:19.264949Z",
     "iopub.status.busy": "2022-08-02T08:10:19.264211Z",
     "iopub.status.idle": "2022-08-02T08:10:19.287892Z",
     "shell.execute_reply": "2022-08-02T08:10:19.286380Z"
    },
    "papermill": {
     "duration": 0.050227,
     "end_time": "2022-08-02T08:10:19.291949",
     "exception": false,
     "start_time": "2022-08-02T08:10:19.241722",
     "status": "completed"
    },
    "tags": []
   },
   "outputs": [
    {
     "name": "stdout",
     "output_type": "stream",
     "text": [
      "% of outliers in col loading -> 1.04%\n",
      "% of outliers in col measurement_3 -> 0.27%\n",
      "% of outliers in col measurement_4 -> 0.27%\n",
      "% of outliers in col measurement_5 -> 0.24%\n",
      "% of outliers in col measurement_6 -> 0.3%\n",
      "% of outliers in col measurement_7 -> 0.35%\n",
      "% of outliers in col measurement_8 -> 0.29%\n",
      "% of outliers in col measurement_9 -> 0.34%\n",
      "% of outliers in col measurement_10 -> 0.64%\n",
      "% of outliers in col measurement_11 -> 0.5%\n",
      "% of outliers in col measurement_12 -> 0.37%\n",
      "% of outliers in col measurement_13 -> 0.76%\n",
      "% of outliers in col measurement_14 -> 0.44%\n",
      "% of outliers in col measurement_15 -> 0.43%\n",
      "% of outliers in col measurement_16 -> 0.41%\n",
      "% of outliers in col measurement_17 -> 0.46%\n"
     ]
    }
   ],
   "source": [
    "for col in floatColumns:\n",
    "    outlierLen = scaledPseudoDF[(scaledPseudoDF[col] <= -3) | (scaledPseudoDF[col] >= 3)].shape[0]\n",
    "    outliersPercentage = round((outlierLen/len(scaledPseudoDF[col]))*100,2)\n",
    "    print('% of outliers in col {} -> {}%'.format(col, outliersPercentage))"
   ]
  },
  {
   "cell_type": "markdown",
   "id": "647ac7bd",
   "metadata": {
    "papermill": {
     "duration": 0.020364,
     "end_time": "2022-08-02T08:10:19.333843",
     "exception": false,
     "start_time": "2022-08-02T08:10:19.313479",
     "status": "completed"
    },
    "tags": []
   },
   "source": [
    "📌 Insights:\n",
    "* There is somehwere around 1% of outliers in almost all the floating value features thus we try to cut this % to half so that our model can have some information about the outliers also when predicting value for test set."
   ]
  },
  {
   "cell_type": "code",
   "execution_count": 22,
   "id": "803393d8",
   "metadata": {
    "execution": {
     "iopub.execute_input": "2022-08-02T08:10:19.377907Z",
     "iopub.status.busy": "2022-08-02T08:10:19.377113Z",
     "iopub.status.idle": "2022-08-02T08:10:19.467507Z",
     "shell.execute_reply": "2022-08-02T08:10:19.466212Z"
    },
    "papermill": {
     "duration": 0.115654,
     "end_time": "2022-08-02T08:10:19.470314",
     "exception": false,
     "start_time": "2022-08-02T08:10:19.354660",
     "status": "completed"
    },
    "tags": []
   },
   "outputs": [],
   "source": [
    "for col in floatColumns:\n",
    "    indexes = scaledPseudoDF[(scaledPseudoDF[col] <= -3) | (scaledPseudoDF[col] >= 3)].index\n",
    "    scaledPseudoDF.drop(indexes, inplace=True)"
   ]
  },
  {
   "cell_type": "code",
   "execution_count": 23,
   "id": "3546d4bd",
   "metadata": {
    "execution": {
     "iopub.execute_input": "2022-08-02T08:10:19.513225Z",
     "iopub.status.busy": "2022-08-02T08:10:19.512763Z",
     "iopub.status.idle": "2022-08-02T08:10:20.103549Z",
     "shell.execute_reply": "2022-08-02T08:10:20.102233Z"
    },
    "papermill": {
     "duration": 0.615584,
     "end_time": "2022-08-02T08:10:20.106497",
     "exception": false,
     "start_time": "2022-08-02T08:10:19.490913",
     "status": "completed"
    },
    "tags": []
   },
   "outputs": [
    {
     "data": {
      "image/png": "[encoded data removed]",
      "text/plain": [
       "<Figure size 1152x288 with 1 Axes>"
      ]
     },
     "metadata": {},
     "output_type": "display_data"
    }
   ],
   "source": [
    "tmpDF = pd.DataFrame(data = scaledPseudoDF[floatColumns])\n",
    "plt.figure(figsize=(16,4)) \n",
    "sns.boxplot(x=\"variable\", y=\"value\", data=pd.melt(tmpDF)).set_title('Boxplot of each feature',size=15)\n",
    "plt.show()"
   ]
  },
  {
   "cell_type": "markdown",
   "id": "eceabdc2",
   "metadata": {
    "papermill": {
     "duration": 0.021695,
     "end_time": "2022-08-02T08:10:20.149937",
     "exception": false,
     "start_time": "2022-08-02T08:10:20.128242",
     "status": "completed"
    },
    "tags": []
   },
   "source": [
    "# <b>4 <span style='color:#3f4d63'>|</span> Feature Selection</b>\n",
    "\n",
    "<div style=\"color:white;display:fill;\n",
    "            background-color:#3f4d6f;font-size:150%;\n",
    "            font-family:Nexa;letter-spacing:0.5px\">\n",
    "    <p style=\"padding: 8px;color:white;\"><b>4.1 | Variance Threshold</b></p>\n",
    "</div>\n",
    "\n",
    "* Feature selector that removes all low-variance features.\n",
    "\n",
    "* This feature selection algorithm looks only at the features (X), not the desired outputs (y)."
   ]
  },
  {
   "cell_type": "code",
   "execution_count": 24,
   "id": "665ef227",
   "metadata": {
    "execution": {
     "iopub.execute_input": "2022-08-02T08:10:20.194942Z",
     "iopub.status.busy": "2022-08-02T08:10:20.194550Z",
     "iopub.status.idle": "2022-08-02T08:10:20.639150Z",
     "shell.execute_reply": "2022-08-02T08:10:20.637835Z"
    },
    "papermill": {
     "duration": 0.470478,
     "end_time": "2022-08-02T08:10:20.641929",
     "exception": false,
     "start_time": "2022-08-02T08:10:20.171451",
     "status": "completed"
    },
    "tags": []
   },
   "outputs": [
    {
     "data": {
      "text/plain": [
       "<matplotlib.legend.Legend at 0x7f6ef788e110>"
      ]
     },
     "execution_count": 24,
     "metadata": {},
     "output_type": "execute_result"
    },
    {
     "data": {
      "image/png": "[encoded data removed]",
      "text/plain": [
       "<Figure size 1080x720 with 1 Axes>"
      ]
     },
     "metadata": {},
     "output_type": "display_data"
    }
   ],
   "source": [
    "selector = VarianceThreshold(threshold=1)\n",
    "selector.fit_transform(scaledPseudoDF.drop(['failure', 'product_code'], axis=1))\n",
    "plt.figure(figsize=(15,10))\n",
    "sns.barplot(x=selector.variances_, y=scaledPseudoDF.drop(['failure', 'product_code'], axis=1).columns,orient='h' ).set_title('Feature selection with VarianceThreshold',size=15);\n",
    "plt.xlabel('Variance');\n",
    "plt.axvline(x=.8, color='r', linestyle='--', label='Threshold')\n",
    "plt.legend()"
   ]
  },
  {
   "cell_type": "markdown",
   "id": "51f5d7c6",
   "metadata": {
    "papermill": {
     "duration": 0.021937,
     "end_time": "2022-08-02T08:10:20.686351",
     "exception": false,
     "start_time": "2022-08-02T08:10:20.664414",
     "status": "completed"
    },
    "tags": []
   },
   "source": [
    "<div style=\"color:white;display:fill;\n",
    "            background-color:#3f4d6f;font-size:150%;\n",
    "            font-family:Nexa;letter-spacing:0.5px\">\n",
    "    <p style=\"padding: 8px;color:white;\"><b>4.2 | Information Gain</b></p>\n",
    "</div>\n",
    "\n",
    "* MI Estimate mutual information for a discrete target variable.\n",
    "\n",
    "* Mutual information (MI) between two random variables is a non-negative value, which measures the dependency between the variables. It is equal to zero if and only if two random variables are independent, and higher values mean higher dependency.\n",
    "\n",
    "* The function relies on nonparametric methods based on entropy estimation from k-nearest neighbors distances.\n",
    "\n",
    "<b>Inshort<b>\n",
    "\n",
    "* A quantity called mutual information measures the amount of information one can obtain from one random variable given another.\n",
    "\n",
    "* The mutual information between two random variables X and Y can be stated formally as follows:\n",
    "\n",
    "<b>I(X ; Y) = H(X) – H(X | Y)<b>\n",
    "Where I(X ; Y) is the mutual information for X and Y, H(X) is the entropy for X and H(X | Y) is the conditional entropy for X given Y. The result has the units of bits."
   ]
  },
  {
   "cell_type": "code",
   "execution_count": 25,
   "id": "f39c3a63",
   "metadata": {
    "execution": {
     "iopub.execute_input": "2022-08-02T08:10:20.732688Z",
     "iopub.status.busy": "2022-08-02T08:10:20.732274Z",
     "iopub.status.idle": "2022-08-02T08:10:23.388441Z",
     "shell.execute_reply": "2022-08-02T08:10:23.387534Z"
    },
    "papermill": {
     "duration": 2.682106,
     "end_time": "2022-08-02T08:10:23.390611",
     "exception": false,
     "start_time": "2022-08-02T08:10:20.708505",
     "status": "completed"
    },
    "tags": []
   },
   "outputs": [
    {
     "data": {
      "text/plain": [
       "attribute_2       0.006024\n",
       "loading           0.003641\n",
       "measurement_3     0.002681\n",
       "attribute_0       0.002297\n",
       "measurement_17    0.002283\n",
       "measurement_8     0.002115\n",
       "measurement_12    0.001910\n",
       "attribute_3       0.001624\n",
       "measurement_7     0.001177\n",
       "measurement_0     0.001032\n",
       "measurement_6     0.000938\n",
       "attribute_1       0.000919\n",
       "measurement_11    0.000714\n",
       "measurement_16    0.000295\n",
       "measurement_15    0.000116\n",
       "measurement_5     0.000000\n",
       "measurement_4     0.000000\n",
       "measurement_1     0.000000\n",
       "measurement_10    0.000000\n",
       "measurement_2     0.000000\n",
       "measurement_13    0.000000\n",
       "measurement_14    0.000000\n",
       "measurement_9     0.000000\n",
       "dtype: float64"
      ]
     },
     "execution_count": 25,
     "metadata": {},
     "output_type": "execute_result"
    }
   ],
   "source": [
    "mutual_info = mutual_info_classif(scaledPseudoDF.drop(['failure', 'product_code'], axis=1),scaledPseudoDF['failure'])\n",
    "mutual_info = pd.Series(mutual_info)\n",
    "mutual_info.index = scaledPseudoDF.drop(['failure', 'product_code'], axis=1).columns\n",
    "mutual_info.sort_values(ascending=False)"
   ]
  },
  {
   "cell_type": "markdown",
   "id": "1eaf3972",
   "metadata": {
    "papermill": {
     "duration": 0.022175,
     "end_time": "2022-08-02T08:10:23.435111",
     "exception": false,
     "start_time": "2022-08-02T08:10:23.412936",
     "status": "completed"
    },
    "tags": []
   },
   "source": [
    "<div style=\"color:white;display:fill;\n",
    "            background-color:#3f4d6f;font-size:150%;\n",
    "            font-family:Nexa;letter-spacing:0.5px\">\n",
    "    <p style=\"padding: 8px;color:white;\"><b>4.3 | Extra Tree</b></p>\n",
    "</div>\n",
    "\n",
    "* This technique gives you a score for each feature of your data,the higher the score mor relevant it is"
   ]
  },
  {
   "cell_type": "code",
   "execution_count": 26,
   "id": "2c8c42cd",
   "metadata": {
    "execution": {
     "iopub.execute_input": "2022-08-02T08:10:23.482028Z",
     "iopub.status.busy": "2022-08-02T08:10:23.481602Z",
     "iopub.status.idle": "2022-08-02T08:10:27.969808Z",
     "shell.execute_reply": "2022-08-02T08:10:27.968963Z"
    },
    "papermill": {
     "duration": 4.514795,
     "end_time": "2022-08-02T08:10:27.972267",
     "exception": false,
     "start_time": "2022-08-02T08:10:23.457472",
     "status": "completed"
    },
    "tags": []
   },
   "outputs": [
    {
     "data": {
      "image/png": "[encoded data removed]",
      "text/plain": [
       "<Figure size 864x432 with 1 Axes>"
      ]
     },
     "metadata": {},
     "output_type": "display_data"
    }
   ],
   "source": [
    "model = ExtraTreesClassifier()\n",
    "model.fit(scaledPseudoDF.drop(['failure', 'product_code'], axis=1), scaledPseudoDF['failure'])\n",
    "plt.figure(figsize=(12, 6))\n",
    "sns.barplot(x=model.feature_importances_, y=scaledPseudoDF.drop(['failure', 'product_code'], axis=1).columns,orient='h' ).set_title('Feature selection with VarianceThreshold',size=15);\n",
    "plt.show()"
   ]
  },
  {
   "cell_type": "markdown",
   "id": "b2dfe956",
   "metadata": {
    "papermill": {
     "duration": 0.02306,
     "end_time": "2022-08-02T08:10:28.020912",
     "exception": false,
     "start_time": "2022-08-02T08:10:27.997852",
     "status": "completed"
    },
    "tags": []
   },
   "source": [
    "📌 Insights:\n",
    "\n",
    "* Floating values feature seem to be more important compaired to some integer values feature to predict the dependable feature outcome.\n",
    "* loading feature seems to be the best feature with highest importance across all features."
   ]
  },
  {
   "cell_type": "markdown",
   "id": "802a0496",
   "metadata": {
    "papermill": {
     "duration": 0.024323,
     "end_time": "2022-08-02T08:10:28.069671",
     "exception": false,
     "start_time": "2022-08-02T08:10:28.045348",
     "status": "completed"
    },
    "tags": []
   },
   "source": [
    "# <b>5 <span style='color:#3f4d63'>|</span> Model</b>\n",
    "\n",
    "<div style=\"color:white;display:fill;\n",
    "            background-color:#3f4d6f;font-size:150%;\n",
    "            font-family:Nexa;letter-spacing:0.5px\">\n",
    "    <p style=\"padding: 8px;color:white;\"><b>5.1 | Prepairing Test set</b></p>\n",
    "</div>\n",
    "\n",
    "* Prepairing test and performing all the transformation we did with train set so we can ready our test set for prediction."
   ]
  },
  {
   "cell_type": "code",
   "execution_count": 27,
   "id": "f74911a8",
   "metadata": {
    "execution": {
     "iopub.execute_input": "2022-08-02T08:10:28.122272Z",
     "iopub.status.busy": "2022-08-02T08:10:28.121500Z",
     "iopub.status.idle": "2022-08-02T08:10:28.160380Z",
     "shell.execute_reply": "2022-08-02T08:10:28.159260Z"
    },
    "papermill": {
     "duration": 0.067765,
     "end_time": "2022-08-02T08:10:28.162970",
     "exception": false,
     "start_time": "2022-08-02T08:10:28.095205",
     "status": "completed"
    },
    "tags": []
   },
   "outputs": [
    {
     "name": "stdout",
     "output_type": "stream",
     "text": [
      "No of rows-> 20775, No of columns-> 24\n",
      "          ------------------------          \n",
      "product_code dtype -> string, % of null values-> 0.0%, No of distinct values-> 4\n",
      "          ------------------------          \n",
      "loading dtype -> float, % of null values-> 1.07%, No of distinct values-> 10741\n",
      "          ------------------------          \n",
      "attribute_0 dtype -> string, % of null values-> 0.0%, No of distinct values-> 2\n",
      "          ------------------------          \n",
      "attribute_1 dtype -> string, % of null values-> 0.0%, No of distinct values-> 3\n",
      "          ------------------------          \n",
      "attribute_2 dtype -> integer, % of null values-> 0.0%, No of distinct values-> 3\n",
      "          ------------------------          \n",
      "attribute_3 dtype -> integer, % of null values-> 0.0%, No of distinct values-> 4\n",
      "          ------------------------          \n",
      "measurement_0 dtype -> integer, % of null values-> 0.0%, No of distinct values-> 30\n",
      "          ------------------------          \n",
      "measurement_1 dtype -> integer, % of null values-> 0.0%, No of distinct values-> 33\n",
      "          ------------------------          \n",
      "measurement_2 dtype -> integer, % of null values-> 0.0%, No of distinct values-> 28\n",
      "          ------------------------          \n",
      "measurement_3 dtype -> float, % of null values-> 1.58%, No of distinct values-> 4487\n",
      "          ------------------------          \n",
      "measurement_4 dtype -> float, % of null values-> 1.97%, No of distinct values-> 4514\n",
      "          ------------------------          \n",
      "measurement_5 dtype -> float, % of null values-> 2.45%, No of distinct values-> 4500\n",
      "          ------------------------          \n",
      "measurement_6 dtype -> float, % of null values-> 3.0%, No of distinct values-> 4476\n",
      "          ------------------------          \n",
      "measurement_7 dtype -> float, % of null values-> 3.47%, No of distinct values-> 4493\n",
      "          ------------------------          \n",
      "measurement_8 dtype -> float, % of null values-> 4.07%, No of distinct values-> 4513\n",
      "          ------------------------          \n",
      "measurement_9 dtype -> float, % of null values-> 4.35%, No of distinct values-> 4471\n",
      "          ------------------------          \n",
      "measurement_10 dtype -> float, % of null values-> 5.14%, No of distinct values-> 6217\n",
      "          ------------------------          \n",
      "measurement_11 dtype -> float, % of null values-> 5.47%, No of distinct values-> 6252\n",
      "          ------------------------          \n",
      "measurement_12 dtype -> float, % of null values-> 5.97%, No of distinct values-> 5623\n",
      "          ------------------------          \n",
      "measurement_13 dtype -> float, % of null values-> 6.27%, No of distinct values-> 5644\n",
      "          ------------------------          \n",
      "measurement_14 dtype -> float, % of null values-> 6.93%, No of distinct values-> 5795\n",
      "          ------------------------          \n",
      "measurement_15 dtype -> float, % of null values-> 7.42%, No of distinct values-> 6156\n",
      "          ------------------------          \n",
      "measurement_16 dtype -> float, % of null values-> 8.08%, No of distinct values-> 6396\n",
      "          ------------------------          \n",
      "measurement_17 dtype -> float, % of null values-> 8.38%, No of distinct values-> 18657\n",
      "          ------------------------          \n",
      "No of integer column-> 5, No of floating column-> 16, No of string or object columns-> 3\n",
      "          ------------------------          \n",
      "% of Null/Missing Values in training data-> 3.02%\n",
      "          ------------------------          \n"
     ]
    }
   ],
   "source": [
    "_,_,_ = infoDF(testDF)"
   ]
  },
  {
   "cell_type": "code",
   "execution_count": 28,
   "id": "7f5b12a2",
   "metadata": {
    "execution": {
     "iopub.execute_input": "2022-08-02T08:10:28.215365Z",
     "iopub.status.busy": "2022-08-02T08:10:28.214590Z",
     "iopub.status.idle": "2022-08-02T08:10:28.240847Z",
     "shell.execute_reply": "2022-08-02T08:10:28.239714Z"
    },
    "papermill": {
     "duration": 0.054821,
     "end_time": "2022-08-02T08:10:28.243237",
     "exception": false,
     "start_time": "2022-08-02T08:10:28.188416",
     "status": "completed"
    },
    "tags": []
   },
   "outputs": [
    {
     "data": {
      "text/plain": [
       "loading           0\n",
       "measurement_3     0\n",
       "measurement_4     0\n",
       "measurement_5     0\n",
       "measurement_6     0\n",
       "measurement_7     0\n",
       "measurement_8     0\n",
       "measurement_9     0\n",
       "measurement_10    0\n",
       "measurement_11    0\n",
       "measurement_12    0\n",
       "measurement_13    0\n",
       "measurement_14    0\n",
       "measurement_15    0\n",
       "measurement_16    0\n",
       "measurement_17    0\n",
       "dtype: int64"
      ]
     },
     "execution_count": 28,
     "metadata": {},
     "output_type": "execute_result"
    }
   ],
   "source": [
    "testPseudoDF = testDF.copy()\n",
    "for col in floatColumns:\n",
    "    if testPseudoDF[col].isnull().sum():\n",
    "        testPseudoDF[col].fillna(testPseudoDF[col].mean(), inplace=True)\n",
    "testPseudoDF[floatColumns].isnull().sum()"
   ]
  },
  {
   "cell_type": "code",
   "execution_count": 29,
   "id": "4da54d09",
   "metadata": {
    "execution": {
     "iopub.execute_input": "2022-08-02T08:10:28.295407Z",
     "iopub.status.busy": "2022-08-02T08:10:28.294975Z",
     "iopub.status.idle": "2022-08-02T08:10:28.306509Z",
     "shell.execute_reply": "2022-08-02T08:10:28.304973Z"
    },
    "papermill": {
     "duration": 0.041248,
     "end_time": "2022-08-02T08:10:28.309888",
     "exception": false,
     "start_time": "2022-08-02T08:10:28.268640",
     "status": "completed"
    },
    "tags": []
   },
   "outputs": [
    {
     "name": "stdout",
     "output_type": "stream",
     "text": [
      "Unique Values for product_code -> ['F' 'G' 'H' 'I']\n",
      "Unique Values for attribute_0 -> ['material_5' 'material_7']\n",
      "Unique Values for attribute_1 -> ['material_6' 'material_7' 'material_5']\n"
     ]
    }
   ],
   "source": [
    "for i in stringColumns:\n",
    "    print('Unique Values for {} -> {}'.format(i, testDF[i].unique()))"
   ]
  },
  {
   "cell_type": "code",
   "execution_count": 30,
   "id": "41e8fa79",
   "metadata": {
    "execution": {
     "iopub.execute_input": "2022-08-02T08:10:28.361943Z",
     "iopub.status.busy": "2022-08-02T08:10:28.361543Z",
     "iopub.status.idle": "2022-08-02T08:10:28.429485Z",
     "shell.execute_reply": "2022-08-02T08:10:28.428374Z"
    },
    "papermill": {
     "duration": 0.097279,
     "end_time": "2022-08-02T08:10:28.432447",
     "exception": false,
     "start_time": "2022-08-02T08:10:28.335168",
     "status": "completed"
    },
    "tags": []
   },
   "outputs": [],
   "source": [
    "testPseudoDF['attribute_1'] = testPseudoDF['attribute_1'].str.split('_', 1).str[1].astype('int')\n",
    "testPseudoDF['attribute_0'] = testPseudoDF['attribute_0'].str.split('_', 1).str[1].astype('int')"
   ]
  },
  {
   "cell_type": "code",
   "execution_count": 31,
   "id": "51e9e1d2",
   "metadata": {
    "execution": {
     "iopub.execute_input": "2022-08-02T08:10:28.486471Z",
     "iopub.status.busy": "2022-08-02T08:10:28.485247Z",
     "iopub.status.idle": "2022-08-02T08:10:28.548352Z",
     "shell.execute_reply": "2022-08-02T08:10:28.547143Z"
    },
    "papermill": {
     "duration": 0.092298,
     "end_time": "2022-08-02T08:10:28.550669",
     "exception": false,
     "start_time": "2022-08-02T08:10:28.458371",
     "status": "completed"
    },
    "tags": []
   },
   "outputs": [
    {
     "data": {
      "text/html": [
       "<div>\n",
       "<style scoped>\n",
       "    .dataframe tbody tr th:only-of-type {\n",
       "        vertical-align: middle;\n",
       "    }\n",
       "\n",
       "    .dataframe tbody tr th {\n",
       "        vertical-align: top;\n",
       "    }\n",
       "\n",
       "    .dataframe thead th {\n",
       "        text-align: right;\n",
       "    }\n",
       "</style>\n",
       "<table border=\"1\" class=\"dataframe\">\n",
       "  <thead>\n",
       "    <tr style=\"text-align: right;\">\n",
       "      <th></th>\n",
       "      <th>loading</th>\n",
       "      <th>attribute_0</th>\n",
       "      <th>attribute_1</th>\n",
       "      <th>attribute_2</th>\n",
       "      <th>attribute_3</th>\n",
       "      <th>measurement_0</th>\n",
       "      <th>measurement_1</th>\n",
       "      <th>measurement_2</th>\n",
       "      <th>measurement_3</th>\n",
       "      <th>measurement_4</th>\n",
       "      <th>...</th>\n",
       "      <th>measurement_9</th>\n",
       "      <th>measurement_10</th>\n",
       "      <th>measurement_11</th>\n",
       "      <th>measurement_12</th>\n",
       "      <th>measurement_13</th>\n",
       "      <th>measurement_14</th>\n",
       "      <th>measurement_15</th>\n",
       "      <th>measurement_16</th>\n",
       "      <th>measurement_17</th>\n",
       "      <th>product_code</th>\n",
       "    </tr>\n",
       "  </thead>\n",
       "  <tbody>\n",
       "    <tr>\n",
       "      <th>0</th>\n",
       "      <td>-0.207095</td>\n",
       "      <td>-0.986469</td>\n",
       "      <td>0.014395</td>\n",
       "      <td>-1.325146</td>\n",
       "      <td>-1.145711</td>\n",
       "      <td>-0.340067</td>\n",
       "      <td>0.008674</td>\n",
       "      <td>-0.033091</td>\n",
       "      <td>1.520330</td>\n",
       "      <td>-1.554227e+00</td>\n",
       "      <td>...</td>\n",
       "      <td>-0.629821</td>\n",
       "      <td>-0.141007</td>\n",
       "      <td>-0.502779</td>\n",
       "      <td>1.405370</td>\n",
       "      <td>-1.581062</td>\n",
       "      <td>0.515180</td>\n",
       "      <td>-0.924209</td>\n",
       "      <td>6.815891e-01</td>\n",
       "      <td>-0.535806</td>\n",
       "      <td>F</td>\n",
       "    </tr>\n",
       "    <tr>\n",
       "      <th>1</th>\n",
       "      <td>-0.362707</td>\n",
       "      <td>-0.986469</td>\n",
       "      <td>0.014395</td>\n",
       "      <td>-1.325146</td>\n",
       "      <td>-1.145711</td>\n",
       "      <td>0.829695</td>\n",
       "      <td>-0.222055</td>\n",
       "      <td>-1.597307</td>\n",
       "      <td>0.090055</td>\n",
       "      <td>2.003004e-01</td>\n",
       "      <td>...</td>\n",
       "      <td>0.627937</td>\n",
       "      <td>-1.394413</td>\n",
       "      <td>0.000000</td>\n",
       "      <td>0.422700</td>\n",
       "      <td>1.318294</td>\n",
       "      <td>0.429200</td>\n",
       "      <td>-0.228655</td>\n",
       "      <td>-1.608255e+00</td>\n",
       "      <td>-1.318719</td>\n",
       "      <td>F</td>\n",
       "    </tr>\n",
       "    <tr>\n",
       "      <th>2</th>\n",
       "      <td>-0.397373</td>\n",
       "      <td>-0.986469</td>\n",
       "      <td>0.014395</td>\n",
       "      <td>-1.325146</td>\n",
       "      <td>-1.145711</td>\n",
       "      <td>0.127838</td>\n",
       "      <td>0.700860</td>\n",
       "      <td>-0.554497</td>\n",
       "      <td>0.685500</td>\n",
       "      <td>-1.250269e+00</td>\n",
       "      <td>...</td>\n",
       "      <td>0.332415</td>\n",
       "      <td>0.604740</td>\n",
       "      <td>-0.492420</td>\n",
       "      <td>-0.761951</td>\n",
       "      <td>-1.806372</td>\n",
       "      <td>-0.284367</td>\n",
       "      <td>1.311116</td>\n",
       "      <td>-3.903475e-01</td>\n",
       "      <td>-0.340164</td>\n",
       "      <td>F</td>\n",
       "    </tr>\n",
       "    <tr>\n",
       "      <th>3</th>\n",
       "      <td>-0.382993</td>\n",
       "      <td>-0.986469</td>\n",
       "      <td>0.014395</td>\n",
       "      <td>-1.325146</td>\n",
       "      <td>-1.145711</td>\n",
       "      <td>0.127838</td>\n",
       "      <td>0.470131</td>\n",
       "      <td>1.009719</td>\n",
       "      <td>-1.282889</td>\n",
       "      <td>-8.419832e-01</td>\n",
       "      <td>...</td>\n",
       "      <td>0.380476</td>\n",
       "      <td>1.338681</td>\n",
       "      <td>-1.737436</td>\n",
       "      <td>-0.742283</td>\n",
       "      <td>-0.178958</td>\n",
       "      <td>-0.335809</td>\n",
       "      <td>-1.678960</td>\n",
       "      <td>-3.332283e-01</td>\n",
       "      <td>-0.859249</td>\n",
       "      <td>F</td>\n",
       "    </tr>\n",
       "    <tr>\n",
       "      <th>4</th>\n",
       "      <td>2.063661</td>\n",
       "      <td>-0.986469</td>\n",
       "      <td>0.014395</td>\n",
       "      <td>-1.325146</td>\n",
       "      <td>-1.145711</td>\n",
       "      <td>1.531552</td>\n",
       "      <td>1.623774</td>\n",
       "      <td>0.488314</td>\n",
       "      <td>0.014618</td>\n",
       "      <td>9.687212e-01</td>\n",
       "      <td>...</td>\n",
       "      <td>0.973565</td>\n",
       "      <td>-1.013997</td>\n",
       "      <td>-0.645862</td>\n",
       "      <td>0.020251</td>\n",
       "      <td>0.254156</td>\n",
       "      <td>0.043389</td>\n",
       "      <td>-1.205391</td>\n",
       "      <td>3.261809e-01</td>\n",
       "      <td>0.799596</td>\n",
       "      <td>F</td>\n",
       "    </tr>\n",
       "    <tr>\n",
       "      <th>...</th>\n",
       "      <td>...</td>\n",
       "      <td>...</td>\n",
       "      <td>...</td>\n",
       "      <td>...</td>\n",
       "      <td>...</td>\n",
       "      <td>...</td>\n",
       "      <td>...</td>\n",
       "      <td>...</td>\n",
       "      <td>...</td>\n",
       "      <td>...</td>\n",
       "      <td>...</td>\n",
       "      <td>...</td>\n",
       "      <td>...</td>\n",
       "      <td>...</td>\n",
       "      <td>...</td>\n",
       "      <td>...</td>\n",
       "      <td>...</td>\n",
       "      <td>...</td>\n",
       "      <td>...</td>\n",
       "      <td>...</td>\n",
       "      <td>...</td>\n",
       "    </tr>\n",
       "    <tr>\n",
       "      <th>20770</th>\n",
       "      <td>0.439235</td>\n",
       "      <td>1.013716</td>\n",
       "      <td>-1.409698</td>\n",
       "      <td>0.967548</td>\n",
       "      <td>-0.624180</td>\n",
       "      <td>-1.743781</td>\n",
       "      <td>-1.144969</td>\n",
       "      <td>0.749016</td>\n",
       "      <td>0.675441</td>\n",
       "      <td>8.453325e-01</td>\n",
       "      <td>...</td>\n",
       "      <td>0.279242</td>\n",
       "      <td>0.000000</td>\n",
       "      <td>0.598507</td>\n",
       "      <td>-0.266455</td>\n",
       "      <td>1.149310</td>\n",
       "      <td>-0.729703</td>\n",
       "      <td>0.062616</td>\n",
       "      <td>2.254756e-15</td>\n",
       "      <td>-0.039507</td>\n",
       "      <td>I</td>\n",
       "    </tr>\n",
       "    <tr>\n",
       "      <th>20771</th>\n",
       "      <td>-1.363658</td>\n",
       "      <td>1.013716</td>\n",
       "      <td>-1.409698</td>\n",
       "      <td>0.967548</td>\n",
       "      <td>-0.624180</td>\n",
       "      <td>-0.807972</td>\n",
       "      <td>-0.222055</td>\n",
       "      <td>0.227611</td>\n",
       "      <td>1.112973</td>\n",
       "      <td>-1.837118e+00</td>\n",
       "      <td>...</td>\n",
       "      <td>-0.447804</td>\n",
       "      <td>-0.063612</td>\n",
       "      <td>-2.041083</td>\n",
       "      <td>1.248022</td>\n",
       "      <td>-0.184286</td>\n",
       "      <td>-0.608448</td>\n",
       "      <td>-0.877122</td>\n",
       "      <td>-8.571186e-02</td>\n",
       "      <td>-0.707216</td>\n",
       "      <td>I</td>\n",
       "    </tr>\n",
       "    <tr>\n",
       "      <th>20772</th>\n",
       "      <td>-1.538272</td>\n",
       "      <td>1.013716</td>\n",
       "      <td>-1.409698</td>\n",
       "      <td>0.967548</td>\n",
       "      <td>-0.624180</td>\n",
       "      <td>0.595742</td>\n",
       "      <td>0.470131</td>\n",
       "      <td>-1.075902</td>\n",
       "      <td>0.867553</td>\n",
       "      <td>3.563941e-15</td>\n",
       "      <td>...</td>\n",
       "      <td>-1.004081</td>\n",
       "      <td>0.008536</td>\n",
       "      <td>1.142999</td>\n",
       "      <td>-0.590230</td>\n",
       "      <td>0.595929</td>\n",
       "      <td>-0.440161</td>\n",
       "      <td>-0.632938</td>\n",
       "      <td>6.930129e-01</td>\n",
       "      <td>0.657616</td>\n",
       "      <td>I</td>\n",
       "    </tr>\n",
       "    <tr>\n",
       "      <th>20773</th>\n",
       "      <td>-0.038130</td>\n",
       "      <td>1.013716</td>\n",
       "      <td>-1.409698</td>\n",
       "      <td>0.967548</td>\n",
       "      <td>-0.624180</td>\n",
       "      <td>0.127838</td>\n",
       "      <td>1.623774</td>\n",
       "      <td>1.270422</td>\n",
       "      <td>-1.264784</td>\n",
       "      <td>-5.029150e-01</td>\n",
       "      <td>...</td>\n",
       "      <td>1.282381</td>\n",
       "      <td>-0.460426</td>\n",
       "      <td>0.420462</td>\n",
       "      <td>-1.963245</td>\n",
       "      <td>0.061577</td>\n",
       "      <td>0.939940</td>\n",
       "      <td>0.888671</td>\n",
       "      <td>-9.247291e-01</td>\n",
       "      <td>0.351600</td>\n",
       "      <td>I</td>\n",
       "    </tr>\n",
       "    <tr>\n",
       "      <th>20774</th>\n",
       "      <td>-1.069895</td>\n",
       "      <td>1.013716</td>\n",
       "      <td>-1.409698</td>\n",
       "      <td>0.967548</td>\n",
       "      <td>-0.624180</td>\n",
       "      <td>-1.743781</td>\n",
       "      <td>0.470131</td>\n",
       "      <td>1.270422</td>\n",
       "      <td>0.582906</td>\n",
       "      <td>-5.189655e-01</td>\n",
       "      <td>...</td>\n",
       "      <td>-1.473439</td>\n",
       "      <td>0.751660</td>\n",
       "      <td>-0.597304</td>\n",
       "      <td>1.370572</td>\n",
       "      <td>-0.860980</td>\n",
       "      <td>0.981828</td>\n",
       "      <td>0.770279</td>\n",
       "      <td>-9.777036e-02</td>\n",
       "      <td>-0.428545</td>\n",
       "      <td>I</td>\n",
       "    </tr>\n",
       "  </tbody>\n",
       "</table>\n",
       "<p>20775 rows × 24 columns</p>\n",
       "</div>"
      ],
      "text/plain": [
       "        loading  attribute_0  attribute_1  attribute_2  attribute_3  \\\n",
       "0     -0.207095    -0.986469     0.014395    -1.325146    -1.145711   \n",
       "1     -0.362707    -0.986469     0.014395    -1.325146    -1.145711   \n",
       "2     -0.397373    -0.986469     0.014395    -1.325146    -1.145711   \n",
       "3     -0.382993    -0.986469     0.014395    -1.325146    -1.145711   \n",
       "4      2.063661    -0.986469     0.014395    -1.325146    -1.145711   \n",
       "...         ...          ...          ...          ...          ...   \n",
       "20770  0.439235     1.013716    -1.409698     0.967548    -0.624180   \n",
       "20771 -1.363658     1.013716    -1.409698     0.967548    -0.624180   \n",
       "20772 -1.538272     1.013716    -1.409698     0.967548    -0.624180   \n",
       "20773 -0.038130     1.013716    -1.409698     0.967548    -0.624180   \n",
       "20774 -1.069895     1.013716    -1.409698     0.967548    -0.624180   \n",
       "\n",
       "       measurement_0  measurement_1  measurement_2  measurement_3  \\\n",
       "0          -0.340067       0.008674      -0.033091       1.520330   \n",
       "1           0.829695      -0.222055      -1.597307       0.090055   \n",
       "2           0.127838       0.700860      -0.554497       0.685500   \n",
       "3           0.127838       0.470131       1.009719      -1.282889   \n",
       "4           1.531552       1.623774       0.488314       0.014618   \n",
       "...              ...            ...            ...            ...   \n",
       "20770      -1.743781      -1.144969       0.749016       0.675441   \n",
       "20771      -0.807972      -0.222055       0.227611       1.112973   \n",
       "20772       0.595742       0.470131      -1.075902       0.867553   \n",
       "20773       0.127838       1.623774       1.270422      -1.264784   \n",
       "20774      -1.743781       0.470131       1.270422       0.582906   \n",
       "\n",
       "       measurement_4  ...  measurement_9  measurement_10  measurement_11  \\\n",
       "0      -1.554227e+00  ...      -0.629821       -0.141007       -0.502779   \n",
       "1       2.003004e-01  ...       0.627937       -1.394413        0.000000   \n",
       "2      -1.250269e+00  ...       0.332415        0.604740       -0.492420   \n",
       "3      -8.419832e-01  ...       0.380476        1.338681       -1.737436   \n",
       "4       9.687212e-01  ...       0.973565       -1.013997       -0.645862   \n",
       "...              ...  ...            ...             ...             ...   \n",
       "20770   8.453325e-01  ...       0.279242        0.000000        0.598507   \n",
       "20771  -1.837118e+00  ...      -0.447804       -0.063612       -2.041083   \n",
       "20772   3.563941e-15  ...      -1.004081        0.008536        1.142999   \n",
       "20773  -5.029150e-01  ...       1.282381       -0.460426        0.420462   \n",
       "20774  -5.189655e-01  ...      -1.473439        0.751660       -0.597304   \n",
       "\n",
       "       measurement_12  measurement_13  measurement_14  measurement_15  \\\n",
       "0            1.405370       -1.581062        0.515180       -0.924209   \n",
       "1            0.422700        1.318294        0.429200       -0.228655   \n",
       "2           -0.761951       -1.806372       -0.284367        1.311116   \n",
       "3           -0.742283       -0.178958       -0.335809       -1.678960   \n",
       "4            0.020251        0.254156        0.043389       -1.205391   \n",
       "...               ...             ...             ...             ...   \n",
       "20770       -0.266455        1.149310       -0.729703        0.062616   \n",
       "20771        1.248022       -0.184286       -0.608448       -0.877122   \n",
       "20772       -0.590230        0.595929       -0.440161       -0.632938   \n",
       "20773       -1.963245        0.061577        0.939940        0.888671   \n",
       "20774        1.370572       -0.860980        0.981828        0.770279   \n",
       "\n",
       "       measurement_16  measurement_17  product_code  \n",
       "0        6.815891e-01       -0.535806             F  \n",
       "1       -1.608255e+00       -1.318719             F  \n",
       "2       -3.903475e-01       -0.340164             F  \n",
       "3       -3.332283e-01       -0.859249             F  \n",
       "4        3.261809e-01        0.799596             F  \n",
       "...               ...             ...           ...  \n",
       "20770    2.254756e-15       -0.039507             I  \n",
       "20771   -8.571186e-02       -0.707216             I  \n",
       "20772    6.930129e-01        0.657616             I  \n",
       "20773   -9.247291e-01        0.351600             I  \n",
       "20774   -9.777036e-02       -0.428545             I  \n",
       "\n",
       "[20775 rows x 24 columns]"
      ]
     },
     "execution_count": 31,
     "metadata": {},
     "output_type": "execute_result"
    }
   ],
   "source": [
    "scalerModel = StandardScaler().fit(testPseudoDF.drop('product_code', axis=1))\n",
    "scaledtestPseudoDF = scalerModel.transform(testPseudoDF.drop('product_code', axis=1))\n",
    "scaledtestPseudoDF = pd.DataFrame(scaledtestPseudoDF, columns=testPseudoDF.drop('product_code', axis=1).columns)\n",
    "scaledtestPseudoDF['product_code'] = testPseudoDF['product_code']\n",
    "scaledtestPseudoDF"
   ]
  },
  {
   "cell_type": "code",
   "execution_count": 32,
   "id": "d08b7856",
   "metadata": {
    "execution": {
     "iopub.execute_input": "2022-08-02T08:10:28.604321Z",
     "iopub.status.busy": "2022-08-02T08:10:28.603471Z",
     "iopub.status.idle": "2022-08-02T08:10:28.615655Z",
     "shell.execute_reply": "2022-08-02T08:10:28.614719Z"
    },
    "papermill": {
     "duration": 0.041632,
     "end_time": "2022-08-02T08:10:28.618037",
     "exception": false,
     "start_time": "2022-08-02T08:10:28.576405",
     "status": "completed"
    },
    "tags": []
   },
   "outputs": [],
   "source": [
    "Xtrain = scaledPseudoDF.drop('failure', axis=1).reset_index(drop=True)\n",
    "ytrain = scaledPseudoDF['failure'].reset_index(drop=True)\n",
    "Xtest = scaledtestPseudoDF"
   ]
  },
  {
   "cell_type": "code",
   "execution_count": 33,
   "id": "0b3ddcb3",
   "metadata": {
    "execution": {
     "iopub.execute_input": "2022-08-02T08:10:28.672171Z",
     "iopub.status.busy": "2022-08-02T08:10:28.671430Z",
     "iopub.status.idle": "2022-08-02T08:10:28.676270Z",
     "shell.execute_reply": "2022-08-02T08:10:28.675414Z"
    },
    "papermill": {
     "duration": 0.034198,
     "end_time": "2022-08-02T08:10:28.678360",
     "exception": false,
     "start_time": "2022-08-02T08:10:28.644162",
     "status": "completed"
    },
    "tags": []
   },
   "outputs": [],
   "source": [
    "def getScore(model, yval, yvalPred):\n",
    "    valScore = roc_auc_score(yval, yvalPred)\n",
    "    print(\"Model -> {}, Validation Score -> {}\".format(model, valScore))"
   ]
  },
  {
   "cell_type": "code",
   "execution_count": 34,
   "id": "42d74270",
   "metadata": {
    "execution": {
     "iopub.execute_input": "2022-08-02T08:10:28.732312Z",
     "iopub.status.busy": "2022-08-02T08:10:28.731505Z",
     "iopub.status.idle": "2022-08-02T08:10:28.736509Z",
     "shell.execute_reply": "2022-08-02T08:10:28.735572Z"
    },
    "papermill": {
     "duration": 0.034586,
     "end_time": "2022-08-02T08:10:28.738797",
     "exception": false,
     "start_time": "2022-08-02T08:10:28.704211",
     "status": "completed"
    },
    "tags": []
   },
   "outputs": [],
   "source": [
    "predictProbs = pd.DataFrame()"
   ]
  },
  {
   "cell_type": "markdown",
   "id": "81fd09c2",
   "metadata": {
    "papermill": {
     "duration": 0.026473,
     "end_time": "2022-08-02T08:10:28.791825",
     "exception": false,
     "start_time": "2022-08-02T08:10:28.765352",
     "status": "completed"
    },
    "tags": []
   },
   "source": [
    "<div style=\"color:white;display:fill;\n",
    "            background-color:#3f4d6f;font-size:150%;\n",
    "            font-family:Nexa;letter-spacing:0.5px\">\n",
    "    <p style=\"padding: 8px;color:white;\"><b>5.2 | Group K Fold</b></p>\n",
    "</div>\n",
    "\n",
    "* We want to create a classifier which predicts correct probabilities for previously unseen products. To validate such a classifier, we have to simulate this situation by splitting the data so that the validation set contains other products than the training set. The correct method is a five-fold cross-validation where every fold uses four products for training and the fifth product for validation (GroupKFold).\n",
    "\n",
    "Fold 0: Train on products A, B, C, D; validate on E<br>\n",
    "Fold 1: Train on products A, B, C, E; validate on D<br>\n",
    "Fold 2: Train on products A, B, D, E; validate on C<br>\n",
    "Fold 3: Train on products A, C, D, E; validate on B<br>\n",
    "Fold 4: Train on products B, C, D, E; validate on A<br>\n",
    "\n",
    "* If you don't split your data with the GroupKFold on products, you'll get a data leak and inflated cross-validation scores. \n",
    "<b> **Idea by @AmbrosM** <b>"
   ]
  },
  {
   "cell_type": "code",
   "execution_count": 35,
   "id": "7025b383",
   "metadata": {
    "execution": {
     "iopub.execute_input": "2022-08-02T08:10:28.845299Z",
     "iopub.status.busy": "2022-08-02T08:10:28.844818Z",
     "iopub.status.idle": "2022-08-02T08:36:35.844317Z",
     "shell.execute_reply": "2022-08-02T08:36:35.843049Z"
    },
    "papermill": {
     "duration": 1567.029889,
     "end_time": "2022-08-02T08:36:35.847502",
     "exception": false,
     "start_time": "2022-08-02T08:10:28.817613",
     "status": "completed"
    },
    "tags": []
   },
   "outputs": [
    {
     "name": "stdout",
     "output_type": "stream",
     "text": [
      "===== fold0 =====\n",
      "Model -> Logistic Regression, Validation Score -> 0.5706115212464166\n",
      "Model -> SVM, Validation Score -> 0.5082077689310527\n",
      "Model -> KNN, Validation Score -> 0.5025983849435945\n",
      "===== fold1 =====\n",
      "Model -> Logistic Regression, Validation Score -> 0.5791554221446129\n",
      "Model -> SVM, Validation Score -> 0.5013454942538688\n",
      "Model -> KNN, Validation Score -> 0.5208198038281885\n",
      "===== fold2 =====\n",
      "Model -> Logistic Regression, Validation Score -> 0.5909847290251764\n",
      "Model -> SVM, Validation Score -> 0.5260974521753274\n",
      "Model -> KNN, Validation Score -> 0.5184989758638927\n",
      "===== fold3 =====\n",
      "Model -> Logistic Regression, Validation Score -> 0.5880032874452221\n",
      "Model -> SVM, Validation Score -> 0.5363927573600707\n",
      "Model -> KNN, Validation Score -> 0.5255519604111154\n",
      "===== fold4 =====\n",
      "Model -> Logistic Regression, Validation Score -> 0.5846505905297098\n",
      "Model -> SVM, Validation Score -> 0.5322708016108132\n",
      "Model -> KNN, Validation Score -> 0.5151160989698997\n"
     ]
    }
   ],
   "source": [
    "gkf = GroupKFold(n_splits=5)\n",
    "for fold, (idx_tr, idx_va) in enumerate(gkf.split(Xtrain, ytrain, Xtrain.product_code)):\n",
    "    print(f\"===== fold{fold} =====\")\n",
    "    \n",
    "    X_train = Xtrain.iloc[idx_tr][Xtest.columns]\n",
    "    X_valid = Xtrain.iloc[idx_va][Xtest.columns]\n",
    "    X_test = Xtest.copy()\n",
    "    y_train = ytrain.iloc[idx_tr]\n",
    "    y_valid = ytrain.iloc[idx_va]\n",
    "    \n",
    "    features = [f for f in X_train.columns if f != 'product_code']\n",
    "        # Logistic Regression\n",
    "    \n",
    "    lrModel = LogisticRegression().fit(X_train[features], y_train)\n",
    "    yValPred = lrModel.predict_proba(X_valid[features])[:,1]\n",
    "    getScore('Logistic Regression', y_valid, yValPred)  \n",
    "    predictProbs[f'LR_{fold}'] = lrModel.predict_proba(X_test[features])[:,1]\n",
    "    \n",
    "    del lrModel, yValPred\n",
    "    gc.collect()\n",
    "    \n",
    "        \n",
    "    # SVM \n",
    "    \n",
    "    svcModel = SVC(probability=True).fit(X_train[features], y_train)\n",
    "    yValPred = svcModel.predict_proba(X_valid[features])[:,1]\n",
    "    getScore('SVM', y_valid, yValPred)\n",
    "    predictProbs[f'SVC_{fold}'] = svcModel.predict_proba(X_test[features])[:,1]\n",
    "    \n",
    "    del svcModel, yValPred\n",
    "    gc.collect()\n",
    "    \n",
    "    # K Neighbours \n",
    "    \n",
    "    knnModel = KNeighborsClassifier(n_neighbors=20).fit(X_train[features], y_train)\n",
    "    yValPred = knnModel.predict_proba(X_valid[features])[:,1]\n",
    "    getScore('KNN', y_valid, yValPred)\n",
    "    predictProbs[f'KNN_{fold}'] = knnModel.predict_proba(X_test[features])[:,1]\n",
    "    \n",
    "    del knnModel, yValPred\n",
    "    gc.collect()\n",
    "    \n",
    "    \n",
    "    \n",
    "    "
   ]
  },
  {
   "cell_type": "markdown",
   "id": "0dfde624",
   "metadata": {
    "papermill": {
     "duration": 0.027278,
     "end_time": "2022-08-02T08:36:35.902585",
     "exception": false,
     "start_time": "2022-08-02T08:36:35.875307",
     "status": "completed"
    },
    "tags": []
   },
   "source": [
    "<div style=\"color:white;display:fill;\n",
    "            background-color:#3f4d6f;font-size:150%;\n",
    "            font-family:Nexa;letter-spacing:0.5px\">\n",
    "    <p style=\"padding: 8px;color:white;\"><b>5.3 | Combining Results</b></p>\n",
    "</div>\n",
    "\n",
    "* Combining result of best fermormed model and submitting values"
   ]
  },
  {
   "cell_type": "code",
   "execution_count": 36,
   "id": "ad456de1",
   "metadata": {
    "execution": {
     "iopub.execute_input": "2022-08-02T08:36:35.959376Z",
     "iopub.status.busy": "2022-08-02T08:36:35.958784Z",
     "iopub.status.idle": "2022-08-02T08:36:35.968147Z",
     "shell.execute_reply": "2022-08-02T08:36:35.967299Z"
    },
    "papermill": {
     "duration": 0.040463,
     "end_time": "2022-08-02T08:36:35.970395",
     "exception": false,
     "start_time": "2022-08-02T08:36:35.929932",
     "status": "completed"
    },
    "tags": []
   },
   "outputs": [],
   "source": [
    "requiredPredCols = [col for col in predictProbs if 'LR' in col]\n",
    "failure = predictProbs[requiredPredCols].sum(axis=1)/5"
   ]
  },
  {
   "cell_type": "code",
   "execution_count": 37,
   "id": "2a0cbaa9",
   "metadata": {
    "execution": {
     "iopub.execute_input": "2022-08-02T08:36:36.026578Z",
     "iopub.status.busy": "2022-08-02T08:36:36.025818Z",
     "iopub.status.idle": "2022-08-02T08:36:36.106738Z",
     "shell.execute_reply": "2022-08-02T08:36:36.105691Z"
    },
    "papermill": {
     "duration": 0.11187,
     "end_time": "2022-08-02T08:36:36.109215",
     "exception": false,
     "start_time": "2022-08-02T08:36:35.997345",
     "status": "completed"
    },
    "tags": []
   },
   "outputs": [
    {
     "data": {
      "text/html": [
       "<div>\n",
       "<style scoped>\n",
       "    .dataframe tbody tr th:only-of-type {\n",
       "        vertical-align: middle;\n",
       "    }\n",
       "\n",
       "    .dataframe tbody tr th {\n",
       "        vertical-align: top;\n",
       "    }\n",
       "\n",
       "    .dataframe thead th {\n",
       "        text-align: right;\n",
       "    }\n",
       "</style>\n",
       "<table border=\"1\" class=\"dataframe\">\n",
       "  <thead>\n",
       "    <tr style=\"text-align: right;\">\n",
       "      <th></th>\n",
       "      <th>id</th>\n",
       "      <th>failure</th>\n",
       "    </tr>\n",
       "  </thead>\n",
       "  <tbody>\n",
       "    <tr>\n",
       "      <th>0</th>\n",
       "      <td>26570</td>\n",
       "      <td>0.207930</td>\n",
       "    </tr>\n",
       "    <tr>\n",
       "      <th>1</th>\n",
       "      <td>26571</td>\n",
       "      <td>0.153611</td>\n",
       "    </tr>\n",
       "    <tr>\n",
       "      <th>2</th>\n",
       "      <td>26572</td>\n",
       "      <td>0.180097</td>\n",
       "    </tr>\n",
       "    <tr>\n",
       "      <th>3</th>\n",
       "      <td>26573</td>\n",
       "      <td>0.191010</td>\n",
       "    </tr>\n",
       "    <tr>\n",
       "      <th>4</th>\n",
       "      <td>26574</td>\n",
       "      <td>0.335923</td>\n",
       "    </tr>\n",
       "    <tr>\n",
       "      <th>...</th>\n",
       "      <td>...</td>\n",
       "      <td>...</td>\n",
       "    </tr>\n",
       "    <tr>\n",
       "      <th>20770</th>\n",
       "      <td>47340</td>\n",
       "      <td>0.232304</td>\n",
       "    </tr>\n",
       "    <tr>\n",
       "      <th>20771</th>\n",
       "      <td>47341</td>\n",
       "      <td>0.162562</td>\n",
       "    </tr>\n",
       "    <tr>\n",
       "      <th>20772</th>\n",
       "      <td>47342</td>\n",
       "      <td>0.145623</td>\n",
       "    </tr>\n",
       "    <tr>\n",
       "      <th>20773</th>\n",
       "      <td>47343</td>\n",
       "      <td>0.225939</td>\n",
       "    </tr>\n",
       "    <tr>\n",
       "      <th>20774</th>\n",
       "      <td>47344</td>\n",
       "      <td>0.179476</td>\n",
       "    </tr>\n",
       "  </tbody>\n",
       "</table>\n",
       "<p>20775 rows × 2 columns</p>\n",
       "</div>"
      ],
      "text/plain": [
       "          id   failure\n",
       "0      26570  0.207930\n",
       "1      26571  0.153611\n",
       "2      26572  0.180097\n",
       "3      26573  0.191010\n",
       "4      26574  0.335923\n",
       "...      ...       ...\n",
       "20770  47340  0.232304\n",
       "20771  47341  0.162562\n",
       "20772  47342  0.145623\n",
       "20773  47343  0.225939\n",
       "20774  47344  0.179476\n",
       "\n",
       "[20775 rows x 2 columns]"
      ]
     },
     "execution_count": 37,
     "metadata": {},
     "output_type": "execute_result"
    }
   ],
   "source": [
    "submission = pd.read_csv('../input/tabular-playground-series-aug-2022/sample_submission.csv')\n",
    "submission['failure'] = failure\n",
    "submission.to_csv('firstSubmission.csv', index=False)\n",
    "submission"
   ]
  },
  {
   "cell_type": "markdown",
   "id": "97c8aa18",
   "metadata": {
    "papermill": {
     "duration": 0.026785,
     "end_time": "2022-08-02T08:36:36.162876",
     "exception": false,
     "start_time": "2022-08-02T08:36:36.136091",
     "status": "completed"
    },
    "tags": []
   },
   "source": [
    "<div style=\"color:white;display:fill;\n",
    "            background-color:#3f4d6f;font-size:150%;\n",
    "            font-family:Nexa;letter-spacing:0.5px\">\n",
    "    <p style=\"padding: 8px;color:white;\"><b>Future Work</b></p>\n",
    "</div>\n",
    "\n",
    "1. Ensembling Model Result\n",
    "2. Votting Classifier"
   ]
  },
  {
   "cell_type": "code",
   "execution_count": null,
   "id": "743f4b46",
   "metadata": {
    "papermill": {
     "duration": 0.026645,
     "end_time": "2022-08-02T08:36:36.216817",
     "exception": false,
     "start_time": "2022-08-02T08:36:36.190172",
     "status": "completed"
    },
    "tags": []
   },
   "outputs": [],
   "source": []
  }
 ],
 "metadata": {
  "kernelspec": {
   "display_name": "Python 3",
   "language": "python",
   "name": "python3"
  },
  "language_info": {
   "codemirror_mode": {
    "name": "ipython",
    "version": 3
   },
   "file_extension": ".py",
   "mimetype": "text/x-python",
   "name": "python",
   "nbconvert_exporter": "python",
   "pygments_lexer": "ipython3",
   "version": "3.7.12"
  },
  "papermill": {
   "default_parameters": {},
   "duration": 1602.417712,
   "end_time": "2022-08-02T08:36:37.370142",
   "environment_variables": {},
   "exception": null,
   "input_path": "__notebook__.ipynb",
   "output_path": "__notebook__.ipynb",
   "parameters": {},
   "start_time": "2022-08-02T08:09:54.952430",
   "version": "2.3.4"
  }
 },
 "nbformat": 4,
 "nbformat_minor": 5
}
